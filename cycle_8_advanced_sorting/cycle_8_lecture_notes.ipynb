{
 "cells": [
  {
   "cell_type": "markdown",
   "metadata": {},
   "source": [
    "**Plan for today**\n",
    "\n",
    "Now we will start pulling things together.  \n",
    "- reading data\n",
    "- storing it in a data structure\n",
    "- sorting things stored in data structures\n",
    "\n",
    "But before we start:\n",
    "Over the next weeks we will be doing more pulling things together, review, etc.  \n",
    "To decide what we will be talking about, I need your help!\n",
    "\n",
    "Anonymous mailbag tool:\n",
    "\n",
    "www.slido.com\n",
    "use event code:\n",
    "cs1px\n",
    "\n",
    "Let me know what you want to go over in more detail!"
   ]
  },
  {
   "cell_type": "markdown",
   "metadata": {},
   "source": [
    "**We're going to use a modified subset of the firefighter game as an example today.**\n",
    "\n",
    "We have a network that describes connections between nodes (which could be people/places/animals/whatever), and a fire is going to start somewhere and the spread over the network.  We get to protect some vertices and they stay protected forever.  This is a whole research area!  We're going to do a very simplified task related to this game:\n",
    "- we have decided that we want to defend in order of priority by number of connections\n",
    "- so we want to sort our nodes by the number of connections they have, and give back that sorted list. \n",
    "\n",
    "\n",
    "We want to write several functions:\n",
    "1. Something to read in connections from a file (with exception-catching) and store the connections each node has in a data structure.\n",
    "2. Something to tell us in any pair of nodes which should be higher-priority.\n",
    "3. Using that, we want to sort the nodes by their number of connections.  \n"
   ]
  },
  {
   "cell_type": "markdown",
   "metadata": {},
   "source": [
    "First, let's look at an example file of connections:"
   ]
  },
  {
   "cell_type": "code",
   "execution_count": 1,
   "metadata": {},
   "outputs": [],
   "source": [
    "1 2\n",
    "2 3\n",
    "2 4\n",
    "4 1\n",
    "4 6\n",
    "6 5"
   ]
  },
  {
   "cell_type": "markdown",
   "metadata": {},
   "source": [
    "Questions we need to answer:\n",
    "1. How are we going to store these data?\n",
    "2. How are we going to read the data?\n",
    "    \n",
    "One way we can store the data: as a dictionary of lists, \n",
    "\n",
    "where the keys are vertices, and the values are lists of the vertices it is connected to"
   ]
  },
  {
   "cell_type": "code",
   "execution_count": 1,
   "metadata": {},
   "outputs": [
    {
     "name": "stdout",
     "output_type": "stream",
     "text": [
      "{'1': ['2', '4'], '2': ['1', '3', '4'], '3': ['2'], '4': ['2', '1', '6'], '5': ['6'], '6': ['4', '5']}\n"
     ]
    }
   ],
   "source": [
    "connectionsDict = {}\n",
    "connectionsDict['1'] = ['2', '4']\n",
    "connectionsDict['2'] = ['1', '3', '4']\n",
    "connectionsDict['3'] = ['2']\n",
    "connectionsDict['4'] = ['2', '1', '6']\n",
    "connectionsDict['5'] = ['6']\n",
    "connectionsDict['6'] = ['4', '5']\n",
    "\n",
    "print(connectionsDict)"
   ]
  },
  {
   "cell_type": "markdown",
   "metadata": {},
   "source": [
    "Now I want to read from a file:"
   ]
  },
  {
   "cell_type": "code",
   "execution_count": 3,
   "metadata": {},
   "outputs": [
    {
     "name": "stdout",
     "output_type": "stream",
     "text": [
      "{'1': ['2', '4'], '2': ['1', '3', '4'], '3': ['2'], '4': ['2', '1', '6'], '6': ['4', '5'], '5': ['6']}\n"
     ]
    }
   ],
   "source": [
    "def readConnections(filename):\n",
    "    connDict = {}\n",
    "    try:\n",
    "        with open(filename,\"r\") as f:\n",
    "            line = f.readline()\n",
    "            while line != \"\":\n",
    "                split = line.split()\n",
    "                if len(split) >= 2:\n",
    "                    firstNode = split[0]\n",
    "                    secondNode = split[1]\n",
    "                    if firstNode not in connDict:\n",
    "                        connDict[firstNode] = []\n",
    "                    if secondNode not in connDict:\n",
    "                        connDict[secondNode] = []\n",
    "            \n",
    "                    connDict[firstNode].append(secondNode)\n",
    "                    connDict[secondNode].append(firstNode)\n",
    "            \n",
    "                line = f.readline()\n",
    "    except Exception as e:\n",
    "        print('Something has gone wrong reading file ' + filename)\n",
    "        print (str(e))\n",
    "    finally:\n",
    "        return connDict\n",
    "\n",
    "connDict  = readConnections('edges.txt')\n",
    "print(connDict)"
   ]
  },
  {
   "cell_type": "markdown",
   "metadata": {},
   "source": [
    "Say I want to sort the vertices by the number of connections they have.  \n",
    "One way to do this is to define a special lessThan function"
   ]
  },
  {
   "cell_type": "code",
   "execution_count": 4,
   "metadata": {},
   "outputs": [
    {
     "data": {
      "text/plain": [
       "True"
      ]
     },
     "execution_count": 4,
     "metadata": {},
     "output_type": "execute_result"
    }
   ],
   "source": [
    "def lessThan(vertex1, vertex2, connDict):\n",
    "    numConnectionsV1 = len(connDict[vertex1])\n",
    "    numConnectionsV2 = len(connDict[vertex2])\n",
    "    return numConnectionsV1 < numConnectionsV2: \n",
    "    \n",
    "lessThan('5', '2', connDict)"
   ]
  },
  {
   "cell_type": "markdown",
   "metadata": {},
   "source": [
    "Now we can use this in a sorting algorithm:"
   ]
  },
  {
   "cell_type": "code",
   "execution_count": 5,
   "metadata": {},
   "outputs": [
    {
     "name": "stdout",
     "output_type": "stream",
     "text": [
      "['3', '5', '1', '6', '4', '2']\n"
     ]
    }
   ],
   "source": [
    "def swap(myList, i, j):\n",
    "    tmp = myList[i]\n",
    "    myList[i] = myList[j]\n",
    "    myList[j] = tmp\n",
    "      \n",
    "    \n",
    "def findMinimumAfterIncluding(myList, afterInd, infoDict):\n",
    "    minSoFar = afterInd\n",
    "    for i in range(afterInd, len(myList)):\n",
    "        if lessThan(myList[i], myList[minSoFar], infoDict):\n",
    "            minSoFar = i\n",
    "    return minSoFar\n",
    "\n",
    "\n",
    "def selectionSort(myList, infoDict):\n",
    "    for i in range(len(myList)):\n",
    "        smallest = findMinimumAfterIncluding(myList, i, infoDict)\n",
    "        swap(myList, smallest, i)\n",
    "        \n",
    "listOfVertices = list(connDict.keys())\n",
    "selectionSort(listOfVertices, connDict)\n",
    "\n",
    "print(listOfVertices)"
   ]
  },
  {
   "cell_type": "code",
   "execution_count": null,
   "metadata": {},
   "outputs": [],
   "source": []
  }
 ],
 "metadata": {
  "kernelspec": {
   "display_name": "Python 3",
   "language": "python",
   "name": "python3"
  },
  "language_info": {
   "codemirror_mode": {
    "name": "ipython",
    "version": 3
   },
   "file_extension": ".py",
   "mimetype": "text/x-python",
   "name": "python",
   "nbconvert_exporter": "python",
   "pygments_lexer": "ipython3",
   "version": "3.7.6"
  }
 },
 "nbformat": 4,
 "nbformat_minor": 1
}
