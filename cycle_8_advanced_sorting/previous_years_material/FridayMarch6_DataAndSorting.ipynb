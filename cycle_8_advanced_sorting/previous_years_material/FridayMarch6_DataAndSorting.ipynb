{
 "cells": [
  {
   "cell_type": "markdown",
   "metadata": {},
   "source": [
    "**Plan for today**\n",
    "\n",
    "Now we will start pulling things together.  \n",
    "- reading data\n",
    "- storing it in a data structure\n",
    "- sorting things stored in data structures\n",
    "\n",
    "But before we start:\n",
    "Over the next weeks we will be doing more pulling things together, review, etc.  \n",
    "To decide what we will be talking about, I need your help!\n",
    "\n",
    "Anonymous mailbag tool:\n",
    "\n",
    "www.slido.com\n",
    "use event code:\n",
    "cs1px\n",
    "\n",
    "Let me know what you want to go over in more detail!\n",
    "Or, if you want to know about something cool that's going on in computing research, let me know and I'll try to sneak in a featurette.\n"
   ]
  },
  {
   "cell_type": "markdown",
   "metadata": {},
   "source": [
    "**We're going to use the firefighter game as an example today.**\n",
    "\n",
    "The idea: we read in connections between vertices (people/places/animals/whatever), and a vertex where a fire starts.  Then, on each turn, \n",
    "1. the fire spreads over all the connections it possibly can\n",
    "2. then we get to defend a number of vertices, which will be safe forever\n",
    "3. repeat!\n",
    "\n",
    "We want to write several functions:\n",
    "1. Something to read in connections from a file (with exception-catching)\n",
    "2. Something to spread the fire on each turn\n",
    "3. Something to read from the command line which vertices the user wants to defend\n",
    "4. We want to keep track of when vertices first catch fire, and sort them by this time after the game is done.\n",
    "\n",
    "Extension activity: can you think of code to automatically suggest strategies for defense?\n",
    "\n",
    "Extension activity: plotting our network of fire-spreading using the networkx package"
   ]
  },
  {
   "cell_type": "markdown",
   "metadata": {},
   "source": [
    "First, let's look at an example file of connections (and draw an example network on the visualiser):"
   ]
  },
  {
   "cell_type": "code",
   "execution_count": 1,
   "metadata": {},
   "outputs": [],
   "source": [
    "1 2\n",
    "2 3\n",
    "2 4\n",
    "4 1\n",
    "4 6\n",
    "6 5"
   ]
  },
  {
   "cell_type": "markdown",
   "metadata": {},
   "source": [
    "Questions we need to answer:\n",
    "1. How are we going to store these data?\n",
    "2. How are we going to read the data?\n",
    "    \n",
    "One way we can store the data: as a dictionary of lists, \n",
    "\n",
    "where the keys are vertices, and the values are lists of the vertices it is connected to"
   ]
  },
  {
   "cell_type": "code",
   "execution_count": 3,
   "metadata": {},
   "outputs": [],
   "source": [
    "connectionsDict = {}\n",
    "connectionsDict[1] = [2, 4]\n",
    "connectionsDict[2] = [1, 3, 4]\n",
    "connectionsDict[3] = [2]\n",
    "connectionsDict[4] = [2, 1, 6]\n",
    "connectionsDict[5] = [6]\n",
    "connectionsDict[6] = [4, 5]\n"
   ]
  },
  {
   "cell_type": "markdown",
   "metadata": {},
   "source": [
    "Now I want to read from a file:"
   ]
  },
  {
   "cell_type": "code",
   "execution_count": 8,
   "metadata": {},
   "outputs": [],
   "source": [
    "def readConnections(filename):\n",
    "    connDict = {}\n",
    "    try:\n",
    "        with open(filename,\"r\") as f:\n",
    "            line = f.readline()\n",
    "            while line != \"\":\n",
    "                split = line.split()\n",
    "                if len(split) >= 2:\n",
    "                    firstNode = split[0]\n",
    "                    secondNode = split[1]\n",
    "                    if firstNode not in connDict:\n",
    "                        connDict[firstNode] = []\n",
    "                    if secondNode not in connDict:\n",
    "                        connDict[secondNode] = []\n",
    "            \n",
    "                    connDict[firstNode].append(secondNode)\n",
    "                    connDict[secondNode].append(firstNode)\n",
    "            \n",
    "                line = f.readline()\n",
    "    except:\n",
    "        print('Something has gone wrong reading file ' + filename)\n",
    "    return connDict\n",
    "\n",
    "connDict  = readConnections('edges')\n"
   ]
  },
  {
   "cell_type": "markdown",
   "metadata": {},
   "source": [
    "Say I want to sort the vertices by the number of connections they have.  \n",
    "One way to do this is to define a special lessThan function"
   ]
  },
  {
   "cell_type": "code",
   "execution_count": 9,
   "metadata": {},
   "outputs": [
    {
     "data": {
      "text/plain": [
       "True"
      ]
     },
     "execution_count": 9,
     "metadata": {},
     "output_type": "execute_result"
    }
   ],
   "source": [
    "def lessThan(vertex1, vertex2, connDict):\n",
    "    numConnectionsV1 = len(connDict[vertex1])\n",
    "    numConnectionsV2 = len(connDict[vertex2])\n",
    "    return  numConnectionsV1 < numConnectionsV2\n",
    "    \n",
    "lessThan('1', '2', connDict)"
   ]
  },
  {
   "cell_type": "code",
   "execution_count": 0,
   "metadata": {},
   "outputs": [],
   "source": [
    "Now we can use this in a sorting algorithm:"
   ]
  },
  {
   "cell_type": "code",
   "execution_count": 11,
   "metadata": {},
   "outputs": [
    {
     "name": "stdout",
     "output_type": "stream",
     "text": [
      "['3', '5', '1', '6', '4', '2']\n"
     ]
    }
   ],
   "source": [
    "def swap(myList, i, j):\n",
    "    tmp = myList[i]\n",
    "    myList[i] = myList[j]\n",
    "    myList[j] = tmp\n",
    "      \n",
    "    \n",
    "def findMinimumAfterIncluding(myList, afterInd, infoDict):\n",
    "    minSoFar = afterInd\n",
    "    for i in range(afterInd, len(myList)):\n",
    "        if lessThan(myList[i], myList[minSoFar], infoDict):\n",
    "            minSoFar = i\n",
    "    return minSoFar\n",
    "\n",
    "def selectionSort(myList, infoDict):\n",
    "    for i in range(len(myList)):\n",
    "        smallest = findMinimumAfterIncluding(myList, i, infoDict)\n",
    "        swap(myList, smallest, i)\n",
    "        \n",
    "listOfVertices = list(connDict.keys())\n",
    "selectionSort(listOfVertices, connDict)\n",
    "\n",
    "print(listOfVertices)"
   ]
  },
  {
   "cell_type": "markdown",
   "metadata": {},
   "source": [
    "OK, back to the business of fires!"
   ]
  },
  {
   "cell_type": "markdown",
   "metadata": {},
   "source": [
    "Let's write a function that takes a starting point for the fire, and then burns throughout the network, recording which timesteps different vertices burn.  We will add defense later.  "
   ]
  },
  {
   "cell_type": "code",
   "execution_count": 0,
   "metadata": {},
   "outputs": [],
   "source": [
    "def burnNetwork(connectDict, fireStart):\n",
    "    burningVertices = [fireStart]\n",
    "    vertices = list(connectDict.keys())\n",
    "    burnedAtTime = {fireStart : 0}\n",
    "    \n",
    "    \n",
    "    while(len(burningVertices < len(vertices))):\n",
    "        # look at each burning vertex, see if it has any connections to non-burning vertices\n",
    "\n",
    "        # burn those susceptible vertices that are beside burning vertices\n",
    "        \n",
    "        \n",
    "        "
   ]
  },
  {
   "cell_type": "raw",
   "metadata": {},
   "source": [
    "- Next, let's add some defense - at each time step, ask the user to enter a vertex to defend\n",
    "- Then, add some reporting about what burns when\n",
    "\n",
    "Extra: we can plot networks of this kind using a python package called networkx\n",
    "Extra: can you use your sorting by connections function to suggest defense?"
   ]
  },
  {
   "cell_type": "code",
   "execution_count": 0,
   "metadata": {},
   "outputs": [],
   "source": []
  },
  {
   "cell_type": "code",
   "execution_count": 0,
   "metadata": {},
   "outputs": [],
   "source": []
  }
 ],
 "metadata": {
  "kernelspec": {
   "display_name": "Python 3",
   "language": "python",
   "name": "python3"
  },
  "language_info": {
   "codemirror_mode": {
    "name": "ipython",
    "version": 3
   },
   "file_extension": ".py",
   "mimetype": "text/x-python",
   "name": "python",
   "nbconvert_exporter": "python",
   "pygments_lexer": "ipython3",
   "version": "3.7.4"
  }
 },
 "nbformat": 4,
 "nbformat_minor": 1
}
