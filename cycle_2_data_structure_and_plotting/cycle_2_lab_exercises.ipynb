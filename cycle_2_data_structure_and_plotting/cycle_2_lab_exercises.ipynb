{
 "cells": [
  {
   "cell_type": "markdown",
   "id": "f7a3b71a",
   "metadata": {},
   "source": [
    "# Cycle 2 Lab Exercises - Functions for Data Structures and Plotting\n",
    "\n",
    "### Objectives:\n",
    "\n",
    "1. To get more practice devising a data structure, and writing functions to process it\n",
    "2. To make use of a library (`matplotlib`), and practice various kinds of plotting\n",
    "\n",
    "We’ll be working with a made-up dataset containing information about the production of a fictional vegetable called a poturnip (these data are fake, but their distribution and format are the same as some real agricultural data I have worked with). On each line of the file` poturnip.csv` are four pieces of information associated with a single sale of a shipment of poturnip:\n",
    "\n",
    "```\n",
    "Price/unit,Production cost/unit,Units produced nationally in month, month,region of sale\n",
    "```"
   ]
  },
  {
   "cell_type": "markdown",
   "id": "14702608",
   "metadata": {},
   "source": [
    "### Task 0: Designing your data structure\n",
    "\n",
    "1. Look at the file` poturnip.csv`\n",
    "2. Devise your own data structure to store the information in this file, and hand-write out your plan.\n",
    "    1. Write out an example of how your data structure might store the information in the first three lines of the file\n",
    "3. Write a function to read the information in poturnip.csv and store the information in your data structure.  "
   ]
  },
  {
   "cell_type": "code",
   "execution_count": null,
   "id": "fdddf0c3",
   "metadata": {},
   "outputs": [],
   "source": [
    "# write your code here"
   ]
  },
  {
   "cell_type": "markdown",
   "id": "7e98960e",
   "metadata": {},
   "source": [
    "### Task 1: Breaking your own code\n",
    "Now a bit of fun - try to break your file reading function!  Add a line to `poturnip.csv` that causes your reading function to throw a runtime exception.  In future weeks you'll learn more about how to deal with such errors gracefully.  "
   ]
  },
  {
   "cell_type": "markdown",
   "id": "e4faed43",
   "metadata": {},
   "source": [
    "### Task 2 - Writing functions to manipulate your data structure\n",
    "\n",
    "Write several functions to deal with information stored in your data structure:\n",
    "\n",
    "1. Write a function `filter_by_region(data_struct, region_string)` that takes your data structure and a string specifying a region as parameters, and returns a new data structure containing only the information for sales from the region specified by `region_string`.\n",
    "2. Write a function `filter_by_month(data_struct, month)` that takes your data structure and an argument specifying the month as parameters, and returns a new data structure containing only the information for sales from the month specified.\n",
    "3. Write a function` get_prices_per_unit(data_struct)` that takes your data structure, and returns a list of the prices/unit stored in that data structure (the first column in the file).\n",
    "4. Write a function` get_costs_per_unit(data_struct)` that takes your data structure, and returns a list of the production cost/unit stored in that data structure (the second column in the file).\n",
    "5. Write a function `calculate_profit_per_unit(data_struct)` that takes your data structure, and returns a list of the profits for the sales (the difference between the price paid and the costs)."
   ]
  },
  {
   "cell_type": "code",
   "execution_count": null,
   "id": "a5c586d7",
   "metadata": {},
   "outputs": [],
   "source": [
    "# write your code here"
   ]
  },
  {
   "cell_type": "markdown",
   "id": "e00e37fa",
   "metadata": {},
   "source": [
    "### Task 3 - Extracting information and plotting\n",
    "\n",
    "Use the functions you wrote as part of Task 2 and any additional bits of code you need to produce a series of plots of your data using `matplotlib`\n",
    "\n",
    "1. Produce a scatterplot of the price paid per unit vs the cost of production per unit overall.  \n",
    "2. Produce a scatterplot of the price paid per unit vs the total production in the month of sale\n",
    "3. Produce histograms of the profit/unit for each region.  "
   ]
  },
  {
   "cell_type": "code",
   "execution_count": null,
   "id": "9c9c4b66",
   "metadata": {},
   "outputs": [],
   "source": [
    "# write your code here"
   ]
  },
  {
   "cell_type": "markdown",
   "id": "4f7ea8c4",
   "metadata": {},
   "source": [
    "### Task 4 - Stretch Exercise\n",
    "\n",
    "We could group the months into seasons, with months 12, 1, 2 as winter, 3, 4, 5 as spring, 6, 7, 8 as summer, and 9, 10, 11 as autumn.  Write code to produce new data structures with data selected in this way, and produce box-plots for profits in each region in each season.  Can you see any difference between the seasons and regions?  "
   ]
  },
  {
   "cell_type": "code",
   "execution_count": null,
   "id": "776e5719",
   "metadata": {},
   "outputs": [],
   "source": []
  }
 ],
 "metadata": {
  "kernelspec": {
   "display_name": "Python 3",
   "language": "python",
   "name": "python3"
  },
  "language_info": {
   "codemirror_mode": {
    "name": "ipython",
    "version": 3
   },
   "file_extension": ".py",
   "mimetype": "text/x-python",
   "name": "python",
   "nbconvert_exporter": "python",
   "pygments_lexer": "ipython3",
   "version": "3.7.13"
  }
 },
 "nbformat": 4,
 "nbformat_minor": 5
}
