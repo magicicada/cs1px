{
 "cells": [
  {
   "cell_type": "markdown",
   "metadata": {},
   "source": [
    "Plan for this cycle:\n",
    "- look at examples of reading from files and dealing with data\n",
    "- Start thinking more about data structures\n",
    "- make our first use of a data plotting library\n",
    "\n",
    "Assumption is: you've previously done *some* reading from file and dealing with data (in CS1CT or similar.)\n",
    "\n",
    "Today, we'll do more of this with messier and more complicated data, and include some visualisation.\n",
    "Part of the goal of looking at the visualisation is to get more experience using a Python **library**\n"
   ]
  },
  {
   "cell_type": "markdown",
   "metadata": {},
   "source": [
    "**Our data**\n",
    "\n",
    "We want to write a system to deal with commuter information (this example uses fictional data). On each line of our file there will be three pieces of information, separated by commas:\n",
    "`id_number,origin_name,destination_name`\n",
    "\n",
    "Where \n",
    "- `id_number` is the identifier for an individual person, and \n",
    "- `origin_name` is where they started from in a day's commute, and\n",
    "- `destination_name` is where they went. \n",
    "\n",
    "Let's call a single line a 'journey'\n",
    "\n",
    "Here is an example of a lines in a file that we might see:"
   ]
  },
  {
   "cell_type": "markdown",
   "metadata": {},
   "source": [
    "`90999,Milngavie,Glasgow\n",
    "892341,Glasgow,Carlisle\n",
    "892341,Glasgow,Edinburgh`"
   ]
  },
  {
   "cell_type": "markdown",
   "metadata": {},
   "source": [
    "What would be a good data structure to store this information?\n",
    "\n",
    "\n",
    "We could talk about a couple different options:\n",
    "- a dictionary with the `id_number` as a key, and a list of tuples as values\n",
    "- a list of 3-tuples\n",
    "- anything else anyone can think of?\n",
    "\n",
    "*Key questions to think about*: \n",
    "- Why is a dictionary with an entry per line unsuitable?\n",
    "- Should the id numbers be strings or numbers?\n",
    "\n",
    "Let's look at an example of the first option:"
   ]
  },
  {
   "cell_type": "code",
   "execution_count": null,
   "metadata": {},
   "outputs": [],
   "source": [
    "myData = {'90999': [('Milngavie','Glasgow')], '892341': [('Glasgow', 'Carlisle'), ('Glasgow', 'Edinburgh')]}"
   ]
  },
  {
   "cell_type": "code",
   "execution_count": null,
   "metadata": {},
   "outputs": [],
   "source": [
    "Or an example of the second:"
   ]
  },
  {
   "cell_type": "code",
   "execution_count": null,
   "metadata": {},
   "outputs": [],
   "source": [
    "myData = [('90999','Milngavie','Glasgow'), ('892341','Glasgow','Carlisle'), ('892341','Glasgow','Edinburgh')]"
   ]
  },
  {
   "cell_type": "markdown",
   "metadata": {},
   "source": [
    "I'm going to proceed with that first option: a dictionary with the `id_number` as a key. and a list of tuples as values\n",
    "\n",
    "Now that we've picked our data structure, let's work on some functions to process it.\n",
    "\n",
    "What might we want to do?\n",
    "- read in data\n",
    "- find the list of places a single person commutes to\n",
    "- count the number of journeys between different places\n",
    "- etc\n",
    "\n",
    "\n",
    "This idea of a data structure and a suite of functions built to operate on it is a fundamental notion that you'll see over and over in computing science - it's the idea that leads to *objects*\n",
    "\n",
    "We will write a couple functions, and then look at plotting (split over multiple videos).\n",
    "\n",
    "First, we will write a function to count the total number of journeys recorded for each person, and a function to read in values.  "
   ]
  },
  {
   "cell_type": "code",
   "execution_count": 1,
   "metadata": {},
   "outputs": [
    {
     "name": "stdout",
     "output_type": "stream",
     "text": [
      "102: 1\n",
      "103: 1\n",
      "104: 1\n",
      "105: 1\n",
      "106: 1\n",
      "107: 1\n",
      "108: 1\n",
      "109: 1\n",
      "110: 1\n",
      "111: 1\n",
      "112: 1\n",
      "113: 1\n",
      "114: 1\n",
      "115: 1\n",
      "116: 1\n",
      "117: 1\n",
      "118: 1\n",
      "119: 1\n",
      "120: 1\n",
      "121: 1\n",
      "122: 1\n",
      "123: 1\n",
      "124: 2\n",
      "125: 2\n",
      "126: 2\n",
      "127: 2\n",
      "128: 2\n",
      "129: 2\n",
      "130: 2\n",
      "131: 2\n",
      "132: 2\n",
      "133: 2\n",
      "134: 2\n",
      "135: 2\n",
      "136: 4\n",
      "137: 4\n",
      "138: 4\n",
      "139: 5\n",
      "140: 5\n",
      "141: 4\n",
      "142: 4\n",
      "143: 2\n",
      "144: 2\n",
      "145: 2\n",
      "146: 2\n",
      "147: 2\n",
      "148: 2\n",
      "149: 2\n",
      "150: 2\n",
      "151: 2\n",
      "152: 2\n",
      "153: 2\n",
      "154: 2\n",
      "155: 1\n",
      "156: 1\n",
      "157: 1\n",
      "158: 1\n",
      "159: 1\n",
      "160: 1\n",
      "161: 1\n",
      "162: 1\n",
      "163: 1\n",
      "164: 1\n",
      "165: 1\n",
      "166: 1\n",
      "167: 1\n",
      "168: 1\n",
      "169: 1\n",
      "170: 1\n",
      "171: 1\n",
      "172: 1\n",
      "173: 1\n",
      "174: 1\n",
      "175: 1\n",
      "176: 1\n",
      "177: 1\n",
      "178: 1\n",
      "179: 1\n",
      "180: 1\n",
      "181: 1\n",
      "182: 1\n",
      "183: 1\n",
      "184: 1\n",
      "185: 1\n",
      "186: 1\n",
      "187: 1\n",
      "188: 1\n",
      "189: 1\n",
      "190: 1\n",
      "191: 1\n",
      "192: 1\n",
      "193: 1\n",
      "194: 1\n",
      "195: 1\n",
      "196: 1\n",
      "197: 1\n",
      "198: 1\n",
      "199: 1\n",
      "200: 1\n",
      "201: 1\n",
      "202: 1\n",
      "203: 1\n",
      "204: 1\n",
      "205: 1\n",
      "206: 1\n",
      "207: 1\n",
      "208: 1\n",
      "209: 2\n",
      "210: 2\n",
      "211: 3\n",
      "212: 3\n",
      "213: 3\n",
      "214: 3\n",
      "215: 3\n",
      "216: 3\n",
      "217: 3\n",
      "218: 3\n",
      "219: 3\n",
      "220: 3\n",
      "221: 3\n",
      "222: 2\n",
      "223: 2\n",
      "224: 2\n",
      "225: 2\n",
      "226: 2\n",
      "227: 2\n",
      "228: 2\n",
      "229: 1\n",
      "230: 1\n",
      "231: 1\n",
      "232: 1\n",
      "233: 1\n",
      "234: 1\n"
     ]
    }
   ],
   "source": [
    "myData = {'90999': [('Milngavie','Glasgow')], \n",
    "          '892341': [('Glasgow', 'Carlisle'), ('Glasgow', 'Edinburgh')]}\n",
    "\n",
    "\n",
    "    \n",
    "def readJourneysFromFile(filename):\n",
    "#     id_num,origin,destination\n",
    "    dataStruct = {}\n",
    "    try:\n",
    "        for line in open(filename, 'r'):\n",
    "            split = line.strip().split(\",\")\n",
    "            if len(split) < 3:\n",
    "                print('There is a problem with line ' + line.strip())\n",
    "            else:\n",
    "                person = split[0]\n",
    "                if person not in dataStruct:\n",
    "                    dataStruct[person] = []\n",
    "                theTuple = (split[1], split[2])\n",
    "                dataStruct[person].append(theTuple)\n",
    "        return dataStruct\n",
    "    except Exception as e:\n",
    "        print('Failure while reading from ' + filename)\n",
    "        print('Due to exception ' + str(e))\n",
    "        return dataStruct\n",
    "    \n",
    "    \n",
    "\n",
    "\n",
    "def countJourneysByPerson(dataStruct):\n",
    "    personToNumber = {}\n",
    "    for person in dataStruct:\n",
    "        listOfTrips = dataStruct[person]\n",
    "        personToNumber[person] = len(listOfTrips)\n",
    "    return personToNumber\n",
    "\n",
    "\n",
    "myJourneys = readJourneysFromFile('sampleJourneys.csv') \n",
    "# for idNum in myJourneys:\n",
    "#     print (idNum + \": \" + str(myJourneys[idNum]))\n",
    "\n",
    "\n",
    "counts = countJourneysByPerson(myJourneys)\n",
    "for count in counts:\n",
    "     print (count + \": \" + str(counts[count]))"
   ]
  },
  {
   "cell_type": "markdown",
   "metadata": {},
   "source": [
    "Let's think about another couple functions we could write:\n",
    "1. a function that counts the number of people who have done each unique journey\n",
    "2. a function that counts the number of journeys that end in each destination"
   ]
  },
  {
   "cell_type": "code",
   "execution_count": 4,
   "metadata": {},
   "outputs": [
    {
     "name": "stdout",
     "output_type": "stream",
     "text": [
      "{('Milngavie', 'Glasgow'): 2, ('Glasgow', 'Carlisle'): 1, ('Glasgow', 'Edinburgh'): 1}\n",
      "{'Glasgow': 2, 'Carlisle': 1, 'Edinburgh': 1}\n"
     ]
    }
   ],
   "source": [
    "# we will assume each person does each journey at most once\n",
    "def countPeoplePerJourney(dataStruct):\n",
    "#     map from journey (tuples) to a count \n",
    "#     keys: pairs, values integers\n",
    "    countDict = {}\n",
    "    for person in dataStruct:\n",
    "        journeys = dataStruct[person]\n",
    "        for journey in journeys:\n",
    "            if journey not in countDict:\n",
    "                countDict[journey] = 0\n",
    "            countDict[journey] = countDict[journey] + 1\n",
    "    return countDict\n",
    "\n",
    "\n",
    "def countJourneysPerDestination(dataStruct):\n",
    "#     map from destinations to a count\n",
    "#   keys: string, values integers\n",
    "    countDict = {}\n",
    "    for person in dataStruct:\n",
    "        journeys = dataStruct[person]\n",
    "        for journey in journeys:\n",
    "            (origin, destination) = journey\n",
    "            if destination not in countDict:\n",
    "                countDict[destination] = 0\n",
    "            countDict[destination] = countDict[destination] + 1\n",
    "    return countDict\n",
    "\n",
    "\n",
    "\n",
    "# Important question: how might we add error-checking or exception-catching to our functions above?\n",
    "\n",
    "myData = {'90999': [('Milngavie','Glasgow')], \n",
    "          '892341': [('Glasgow', 'Carlisle'), ('Glasgow', 'Edinburgh')], \n",
    "          '909679': [('Milngavie','Glasgow')]}\n",
    "\n",
    "print(countPeoplePerJourney(myData))\n",
    "print(countJourneysPerDestination(myData))\n",
    "\n"
   ]
  },
  {
   "cell_type": "markdown",
   "metadata": {},
   "source": [
    "**Important extra task:** think about errors and exceptions - what else could you add?\n",
    "    \n",
    "But for the moment, let's look at plotting.  We are going to use a library called matplotlib for plotting.\n",
    "\n",
    "https://matplotlib.org/\n",
    "\n",
    "A big part of the reason for this: I want you to practice using an existing library, and understanding documentation.\n",
    "\n",
    "Let's look at a basic example of a scatterplot in matplotlib:"
   ]
  },
  {
   "cell_type": "code",
   "execution_count": 10,
   "metadata": {},
   "outputs": [
    {
     "data": {
      "image/png": "[encoded data removed]",
      "text/plain": [
       "<Figure size 432x288 with 1 Axes>"
      ]
     },
     "metadata": {
      "needs_background": "light"
     },
     "output_type": "display_data"
    }
   ],
   "source": [
    "import matplotlib.pyplot as plt\n",
    "\n",
    "xVals = [1, 2, 3, 4, 5, 6, 7, 8]\n",
    "yVals = [1, 4, 9, 16, 25, 36, 49, 64]\n",
    "\n",
    "plt.plot(xVals, yVals)\n",
    "plt.show()"
   ]
  },
  {
   "cell_type": "markdown",
   "metadata": {},
   "source": [
    "There are loads of different plotting styles possible using matplotlib!  Feel free to have look and try things out.\n",
    "\n",
    "We'll have a quick look at **histograms** and **scatterplots**\n",
    "\n",
    "Let's use the histogram function to plot a histogram of the number of journeys for each person.  We already have a function to get the count of number of different journeys for each person!"
   ]
  },
  {
   "cell_type": "code",
   "execution_count": 26,
   "metadata": {},
   "outputs": [
    {
     "data": {
      "image/png": "[encoded data removed]",
      "text/plain": [
       "<Figure size 432x288 with 1 Axes>"
      ]
     },
     "metadata": {
      "needs_background": "light"
     },
     "output_type": "display_data"
    }
   ],
   "source": [
    "# this gets us just the values from the dictionary -\n",
    "#here, it will be just the counts of journeys, not the ids\n",
    "justCounts = counts.values()\n",
    "\n",
    "plt.hist(justCounts)\n",
    "plt.show()"
   ]
  },
  {
   "cell_type": "markdown",
   "metadata": {},
   "source": [
    "Now let's look at a scatterplot. We can find the docs for `matplotlib`'s `scatter` here:  https://matplotlib.org/api/_as_gen/matplotlib.pyplot.scatter.html\n",
    "\n",
    "(Note the many pretty examples near the bottom of the docs page)\n",
    "\n",
    "First, let's do a generic example with our `xVals` and `yVals` from before:"
   ]
  },
  {
   "cell_type": "code",
   "execution_count": 11,
   "metadata": {},
   "outputs": [
    {
     "data": {
      "image/png": "[encoded data removed]",
      "text/plain": [
       "<Figure size 432x288 with 1 Axes>"
      ]
     },
     "metadata": {
      "needs_background": "light"
     },
     "output_type": "display_data"
    }
   ],
   "source": [
    "plt.scatter(xVals, yVals)\n",
    "plt.show()"
   ]
  },
  {
   "cell_type": "markdown",
   "metadata": {},
   "source": [
    "It's good practice to have x and y axis labels, so we should usually add those!\n",
    "\n",
    "We may also want to change the colour or the shape of our markers.  There are many, many possibilities of how to make our plots more informative and beautiful.  I encourage you to have a look around the matplotlib documentation - you'll have a good change to use some of your plotting skills in your assessed assignment.  "
   ]
  },
  {
   "cell_type": "code",
   "execution_count": 12,
   "metadata": {},
   "outputs": [
    {
     "data": {
      "image/png": "[encoded data removed]",
      "text/plain": [
       "<Figure size 432x288 with 1 Axes>"
      ]
     },
     "metadata": {
      "needs_background": "light"
     },
     "output_type": "display_data"
    }
   ],
   "source": [
    "plt.scatter(xVals, yVals, color = 'purple')\n",
    "plt.xlabel('This is my x-axis label (units)')\n",
    "plt.ylabel('This is my y-axis label (units)')\n",
    "plt.show()"
   ]
  },
  {
   "cell_type": "code",
   "execution_count": null,
   "metadata": {},
   "outputs": [],
   "source": []
  }
 ],
 "metadata": {
  "kernelspec": {
   "display_name": "Python 3 (ipykernel)",
   "language": "python",
   "name": "python3"
  },
  "language_info": {
   "codemirror_mode": {
    "name": "ipython",
    "version": 3
   },
   "file_extension": ".py",
   "mimetype": "text/x-python",
   "name": "python",
   "nbconvert_exporter": "python",
   "pygments_lexer": "ipython3",
   "version": "3.9.12"
  }
 },
 "nbformat": 4,
 "nbformat_minor": 4
}
