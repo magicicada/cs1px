{
 "cells": [
  {
   "cell_type": "markdown",
   "metadata": {
    "id": "qQcr5kExBITg"
   },
   "source": [
    "**Recursion and Higher Order Functions**\n",
    "\n",
    "Today we're tackling recursion, and touching on higher-order functions in Python.  \n",
    "\n",
    "\n",
    "A **recursive** function is one that calls itself.  \n",
    "\n",
    "A classic example:  the Fibonacci sequence.\n",
    "\n",
    "The Fibonacci sequence was originally described to model population growth, and is self-referential in its definition.\n",
    "\n",
    "The nth Fib number is defined in terms of the previous two:\n",
    "- F(n) = F(n-1) + F(n-2)\n",
    "- F(1) = 0\n",
    "- F(2) = 1\n",
    "\n",
    "Another classic example: \n",
    "Factorial: \n",
    "- n! = n(n-1)(n-2)(n-3) ... 1\n",
    "or: \n",
    "- n! = n*(n-1)!\n",
    "\n",
    "Let's look at an implementation of the factorial and of the Fibonacci sequence in Python:\n"
   ]
  },
  {
   "cell_type": "code",
   "execution_count": 4,
   "metadata": {
    "id": "mXhxn9etBITl",
    "outputId": "d7063531-fc44-4b58-8ae4-15c406d41f99"
   },
   "outputs": [
    {
     "name": "stdout",
     "output_type": "stream",
     "text": [
      "120\n"
     ]
    },
    {
     "data": {
      "text/plain": [
       "8"
      ]
     },
     "execution_count": 4,
     "metadata": {},
     "output_type": "execute_result"
    }
   ],
   "source": [
    "def factorial(n):\n",
    "    if n == 1:\n",
    "        return 1\n",
    "    else:\n",
    "        return n*factorial(n-1)\n",
    "    \n",
    "print(factorial(5))\n",
    "\n",
    "\n",
    "\n",
    "\n",
    "def fibonacci(n):\n",
    "     if n == 1:\n",
    "        return 0\n",
    "     elif n == 2:\n",
    "        return 1\n",
    "     else:\n",
    "#         print('working on number ' + str(n))\n",
    "        return fibonacci(n-1)+fibonacci(n-2)\n",
    "    \n",
    "fibonacci(7)"
   ]
  },
  {
   "cell_type": "markdown",
   "metadata": {
    "id": "R5aFiGGBBITn"
   },
   "source": [
    "There are two very important parts of these functions: a base case (or two) and a recursive case. When designing recursive functions it can help to think about these two cases!\n",
    "\n",
    "The base case is the case when we know we are done, and can just return a value.  (e.g. in fibonacci above there are two base cases, `n ==1` and `n ==2`).\n",
    "\n",
    "The recursive case is the case when we make the recursive call - that is we call the function again.  "
   ]
  },
  {
   "cell_type": "markdown",
   "metadata": {
    "id": "It2r0rRLBITn"
   },
   "source": [
    "Let's write a function that counts down from a parameter n to zero, and then prints \"Blastoff!\"."
   ]
  },
  {
   "cell_type": "code",
   "execution_count": 7,
   "metadata": {
    "colab": {
     "base_uri": "https://localhost:8080/",
     "height": 130
    },
    "id": "pGKyDYhQBITo",
    "outputId": "31104c9f-a497-4a80-84c2-6e2054558cf9"
   },
   "outputs": [
    {
     "name": "stdout",
     "output_type": "stream",
     "text": [
      "10\n",
      "9\n",
      "8\n",
      "7\n",
      "6\n",
      "5\n",
      "4\n",
      "3\n",
      "2\n",
      "1\n",
      "Blastoff!\n"
     ]
    }
   ],
   "source": [
    "def countdown(n):\n",
    "#     base case\n",
    "  if n == 0:\n",
    "    print('Blastoff!')\n",
    "    # recursive case\n",
    "  else:\n",
    "    print(n)\n",
    "    countdown(n-1)\n",
    "\n",
    "countdown(10)"
   ]
  },
  {
   "cell_type": "markdown",
   "metadata": {
    "id": "RT1QyQHcBITo"
   },
   "source": [
    "Let's write a recursive function that adds up the elements of a list:"
   ]
  },
  {
   "cell_type": "code",
   "execution_count": 8,
   "metadata": {
    "id": "pDb5RM7dBITo"
   },
   "outputs": [
    {
     "name": "stdout",
     "output_type": "stream",
     "text": [
      "11\n"
     ]
    }
   ],
   "source": [
    "def add_up_list(my_list):\n",
    "#     base case\n",
    "   if len(my_list) == 0:\n",
    "        return 0\n",
    "# recursive case\n",
    "   else:\n",
    "        first_elem = my_list[0]\n",
    "        return first_elem + add_up_list(my_list[1:])\n",
    "\n",
    "my_list = [1, 2, 1, 3, 4]\n",
    "print(add_up_list(my_list))\n"
   ]
  },
  {
   "cell_type": "markdown",
   "metadata": {
    "id": "02BtHyRPBITp"
   },
   "source": [
    "**Higher-order functions**\n",
    "\n",
    "are functions that takes a function as an argument or returns a function.  We will talk briefly about functions that take a function as an argument.  Let's look at an example.  "
   ]
  },
  {
   "cell_type": "code",
   "execution_count": 10,
   "metadata": {
    "id": "3UJLHfUMBITp",
    "outputId": "eb12e003-b36c-442b-bc0f-57d3dfb10024"
   },
   "outputs": [
    {
     "name": "stdout",
     "output_type": "stream",
     "text": [
      "11\n",
      "81\n"
     ]
    }
   ],
   "source": [
    "def h(x):\n",
    "    return x+4\n",
    "\n",
    "def g(x):\n",
    "    return x**2\n",
    "\n",
    "def doItTwice(f, x):\n",
    "    return f(f(x))\n",
    "\n",
    "print(doItTwice(h, 3))\n",
    "print(doItTwice(g, 3))\n"
   ]
  },
  {
   "cell_type": "markdown",
   "metadata": {
    "id": "ESYcSXpnBITp"
   },
   "source": [
    "A common reason for using a higher-order function is to apply a parameter-specified function repeatedly over a data structure (like a list or a dictionary).\n",
    "\n",
    "\n",
    "Let's look at an example function that applies a parameter function to every element of a list:"
   ]
  },
  {
   "cell_type": "code",
   "execution_count": null,
   "metadata": {
    "id": "E3wSkPT_BITq",
    "outputId": "67108770-614a-4b51-e5bc-b9f5ab2833f7"
   },
   "outputs": [
    {
     "name": "stdout",
     "output_type": "stream",
     "text": [
      "[4, 6, 8, 10]\n",
      "[0, 1, 0, 1]\n"
     ]
    }
   ],
   "source": [
    "def sampleFunction1(x):\n",
    "    return 2*x\n",
    "\n",
    "\n",
    "def sampleFunction2(x):\n",
    "    return x % 2\n",
    "\n",
    "def applyToAll(func, myList):\n",
    "    newList = []\n",
    "    for element in myList:\n",
    "        newList.append(func(element))\n",
    "    return newList\n",
    "        \n",
    "        \n",
    "aList = [2, 3, 4, 5]\n",
    "\n",
    "print(applyToAll(sampleFunction1, aList))\n",
    "print(applyToAll(sampleFunction2, aList))\n",
    "\n",
    "\n"
   ]
  },
  {
   "cell_type": "markdown",
   "metadata": {
    "id": "LQLwXu1SBITq"
   },
   "source": [
    "Something like this applyToAll function is built into Python, and is called map"
   ]
  },
  {
   "cell_type": "code",
   "execution_count": 12,
   "metadata": {
    "id": "4-JbhmQIBITq",
    "outputId": "6d11887b-4bc1-4120-9aea-a632113a616f"
   },
   "outputs": [
    {
     "name": "stdout",
     "output_type": "stream",
     "text": [
      "[4, 6, 8, 10]\n",
      "[0, 1, 0, 1]\n"
     ]
    }
   ],
   "source": [
    "def sampleFunction1(x):\n",
    "    return 2*x\n",
    "\n",
    "\n",
    "def sampleFunction2(x):\n",
    "    return x % 2\n",
    "    \n",
    "aList = [2, 3, 4, 5]\n",
    "\n",
    "print(list(map(sampleFunction1, aList)))\n",
    "\n",
    "\n",
    "bList = [2, 3, 4, 5]\n",
    "print(list(map(sampleFunction2, aList)))\n"
   ]
  },
  {
   "cell_type": "markdown",
   "metadata": {
    "id": "82gBkchTBITq"
   },
   "source": [
    "Python has quite a few built-in functions (some higher-order, some not).  You can find lots of them here:  https://docs.python.org/3.3/library/functions.html  \n",
    "\n",
    "(I **will not** by default require you to remember those for an exam!!)\n",
    "        \n",
    "\n",
    "        \n",
    "Example: zip does something that may be familiar from last week's lab."
   ]
  },
  {
   "cell_type": "code",
   "execution_count": null,
   "metadata": {
    "id": "uvzeZFAgBITr",
    "outputId": "15791556-0a5c-4a2e-926a-54982a7455e3"
   },
   "outputs": [
    {
     "name": "stdout",
     "output_type": "stream",
     "text": [
      "[(1, 4), (2, 5), (3, 6)]\n"
     ]
    }
   ],
   "source": [
    "x = [1, 2, 3]\n",
    "y = [4, 5, 6]\n",
    "zipped = zip(x, y)\n",
    "print(list(zipped))"
   ]
  }
 ],
 "metadata": {
  "colab": {
   "collapsed_sections": [],
   "name": "Friday24th_RecursionHigherOrder.ipynb",
   "provenance": []
  },
  "kernelspec": {
   "display_name": "Python 3",
   "language": "python",
   "name": "python3"
  },
  "language_info": {
   "codemirror_mode": {
    "name": "ipython",
    "version": 3
   },
   "file_extension": ".py",
   "mimetype": "text/x-python",
   "name": "python",
   "nbconvert_exporter": "python",
   "pygments_lexer": "ipython3",
   "version": "3.7.6"
  }
 },
 "nbformat": 4,
 "nbformat_minor": 1
}
