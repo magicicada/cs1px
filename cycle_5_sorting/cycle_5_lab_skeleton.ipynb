{
  "nbformat": 4,
  "nbformat_minor": 0,
  "metadata": {
    "colab": {
      "provenance": []
    },
    "kernelspec": {
      "name": "python3",
      "display_name": "Python 3"
    },
    "language_info": {
      "name": "python"
    }
  },
  "cells": [
    {
      "cell_type": "code",
      "execution_count": null,
      "metadata": {
        "id": "0FsNd9XyJ-7n"
      },
      "outputs": [],
      "source": []
    },
    {
      "cell_type": "markdown",
      "source": [
        "\n",
        "# Cycle 5 Lab Exercises - Sorting\n",
        "\n",
        "\n",
        "This week, you will practice tracing BubbleSort, implement an iterative version of selection sort, and then implement a sorting algorithm you probably have not seen before.\n",
        "\n",
        "\n",
        "### Task 1 - Understanding BubbleSort: \n",
        "Look back at the BubbleSort algorithm we looked at in class, and trace its execution when called with:\n",
        "bubbleSort([2, 1, 3, 5, 1, 7])\n",
        "Show each step.  How many comparisons does it perform?  \n",
        "Add a line to bubbleSort to count how many swaps it performs, and then try it out on a variety of lists.  What is worst - a sorted list, a random list, or a reverse-sorted list?\n"
      ],
      "metadata": {
        "id": "LOy_Vxz96q6k"
      }
    },
    {
      "cell_type": "code",
      "source": [],
      "metadata": {
        "id": "VWI0Fv3lKJn3"
      },
      "execution_count": null,
      "outputs": []
    },
    {
      "cell_type": "markdown",
      "source": [
        "\n",
        "\n",
        "### Task 2 - Implementing Iterative SelectionSort:\n",
        "We talked briefly about a recursive SelectionSort algorithm in lecture.  I would like you to implement an iterative version of SelectionSort.  Feel free to look at the recursive version we went over, but try to avoid looking up an iterative version and copying it.  It may help you to write out the steps that Selection Sort should take in its execution and then try to transfer those to code.  \n",
        "\n",
        "\n"
      ],
      "metadata": {
        "id": "R4Kl_umbKAJ5"
      }
    },
    {
      "cell_type": "code",
      "source": [],
      "metadata": {
        "id": "tdRi7O16KQJX"
      },
      "execution_count": null,
      "outputs": []
    },
    {
      "cell_type": "markdown",
      "source": [
        "### Task 3 - Implementing a new sorting algorithm - the odd-even sort\n",
        "The odd-even sort algorithm is based on repeatedly making two passes on a list: \n",
        "1.  The first pass examines pairs of items a[j], a[j+1] where j is odd. 2. \n",
        "2. The second pass examines pairs of items a[i], a[i+1] where i is even. 3. \n",
        "3. In each pass, the following occurs: if the contents of the pair being examined are unordered, then the elements are swapped. 4. \n",
        "4. Repeat passes until the list is sorted. \n",
        "\n",
        "\n",
        "Consider the following list: [1,7,5,2,6] \n",
        "First pass \n",
        "* Start with odd position \n",
        "   * Examine a[1] and a[2], compare contents of this pair (7 and 5): swap elements. Resulting list: [1,5,7,2,6] \n",
        "   * Examine a[3] and a[4], compare contents of this pair (2 and 6): do not swap elements. \n",
        "* Start with even position \n",
        "   * Examine a[0] and a[1], compare contents of this pair (1 and 5): do not swap elements. \n",
        "   * Examine a[2] and a[3], compare contents of this pair (7 and 2): swap elements. Resulting list: [1,5,2,7,6] \n",
        "Repeat until list is sorted. "
      ],
      "metadata": {
        "id": "AulAEHkWKMRv"
      }
    },
    {
      "cell_type": "code",
      "source": [],
      "metadata": {
        "id": "yv_ynCgBKPLX"
      },
      "execution_count": null,
      "outputs": []
    },
    {
      "cell_type": "markdown",
      "source": [
        "## Task 4\n",
        "\n",
        "I have devised a data type to record information about my pairs of socks.  I keep them as a list of dictionaries.  A single pair of socks is one dictionary, for example:\n",
        "\n",
        "`{'colour': 'red', 'age':9, 'rating':5}`\n",
        "\n",
        "means that I have a pair of red socks that I have had for 9 months, and that I rate at 5.  A data structure:\n",
        "\n",
        "`[{'colour': 'purple', 'age':2, 'rating':9}, {'colour': 'red', 'age':9, 'rating':5}]`\n",
        "\n",
        "records two pairs of socks, one that is coloured purple, 2 months old, and that I rare a 9, and another that is red, 9 months old, and that I rate a 5.  \n",
        "\n",
        "I have provided you with a function `rating_less_than(sock_1, sock_2)` that tells you if `sock_1 `is less than `sock_2 `by rating.  \n",
        "\n",
        "**Write a sort that uses my `rating_less_than` function to sort a list of socks.  **"
      ],
      "metadata": {
        "id": "CWb3FgBvKAMw"
      }
    },
    {
      "cell_type": "code",
      "source": [
        "def rating_less_than(sock_1, sock_2):\n",
        "  return sock_1['rating'] < sock_2['rating']\n",
        "\n"
      ],
      "metadata": {
        "colab": {
          "base_uri": "https://localhost:8080/"
        },
        "id": "HTlBTDjF7E0S",
        "outputId": "e7a6dd35-4220-4ee5-b8d4-cd4d22cc1843"
      },
      "execution_count": 3,
      "outputs": [
        {
          "output_type": "execute_result",
          "data": {
            "text/plain": [
              "True"
            ]
          },
          "metadata": {},
          "execution_count": 3
        }
      ]
    },
    {
      "cell_type": "markdown",
      "source": [
        "Write a new function `age_less_than` that takes two parameters `sock_1, sock_2` and returns `True` if I have had `sock_1` for less time than `sock_2`.  Use this to write a sort that can sort a list a socks by their age."
      ],
      "metadata": {
        "id": "SoH6Ch8M830d"
      }
    },
    {
      "cell_type": "code",
      "source": [],
      "metadata": {
        "id": "P0k-_3t-9Xkd"
      },
      "execution_count": null,
      "outputs": []
    },
    {
      "cell_type": "markdown",
      "source": [
        "Write a new function `less_than` that takes three parameters: `sock_1,` `sock_2`, and `characteristic`, where `characteristic` is a string equal to either `'rating'` or '`age'`.  The function should return `True` if `sock_1` is less than `sock_2` by `characteristic`, and False otherwise.\n",
        "\n",
        "Write a sort that uses your `less_than` function to sort a list of socks by a characteristic given to the sorting function as a parameter.  "
      ],
      "metadata": {
        "id": "dFPHP9SF9X8H"
      }
    },
    {
      "cell_type": "code",
      "source": [],
      "metadata": {
        "id": "5EmMXWFD97fv"
      },
      "execution_count": 3,
      "outputs": []
    }
  ]
}