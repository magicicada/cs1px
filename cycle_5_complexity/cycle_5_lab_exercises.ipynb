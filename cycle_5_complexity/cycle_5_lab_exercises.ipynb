{
  "nbformat": 4,
  "nbformat_minor": 0,
  "metadata": {
    "colab": {
      "name": "cycle_5_lab_exercises.ipynb",
      "provenance": [],
      "collapsed_sections": []
    },
    "kernelspec": {
      "name": "python3",
      "display_name": "Python 3"
    },
    "language_info": {
      "name": "python"
    }
  },
  "cells": [
    {
      "cell_type": "code",
      "execution_count": null,
      "metadata": {
        "id": "oRYgMkRMKpWg"
      },
      "outputs": [],
      "source": [
        "\n",
        "\n"
      ]
    },
    {
      "cell_type": "markdown",
      "source": [
        "# Cycle 5 Lab Exercises: Time complexity and big-O notation\n",
        "\n",
        "### Objectives:\n",
        "1. Write code that can generate a plot of the runtime of code.\n",
        "2. Practice finding the time complexity in big-O notation of code\n",
        "\n",
        "You may find yourself working lots on paper for this lab - that is expected!"
      ],
      "metadata": {
        "id": "xO9O39ASK93U"
      }
    },
    {
      "cell_type": "markdown",
      "source": [
        "### Task 0:\n",
        " Write a higher-order function `plotRuntimes` that takes as a parameter a function `func`, and a list of lists that will be inputs for `func`.  Your function `plotRuntimes` should call `func` on each of the provided inputs, and record the running time. You should collect those runtimes, and plot them using `matplotlib`, with the runtimes on the y-axis and the sizes of the lists on the x-axis.  Save or display the figure.\n",
        "\n",
        "Write your code below in `plotRuntimes` and call `testRuntimes` function to test it.\n",
        "\n"
      ],
      "metadata": {
        "id": "jrHy5EpAK6cD"
      }
    },
    {
      "cell_type": "code",
      "source": [
        "import time\n",
        "import random \n",
        "import matplotlib.pyplot as plt\n",
        "\n",
        "def traversalFunction(myList):\n",
        "    for i in range(len(myList)):\n",
        "        myList[i] = myList[i] +3\n",
        "\n",
        "\n",
        "def doubleTraversalFunction(myList):\n",
        "    for i in range(len(myList)):\n",
        "      for j in range(len(myList)):\n",
        "        myList[i] = myList[i] +3\n",
        "\n",
        "\n",
        "def sillyFunction(myList):\n",
        "  return myList[0]\n",
        "\n",
        "def functionAhoy(myList):\n",
        "  items = []\n",
        "  for item in myList:\n",
        "    for i in range(len(myList)):\n",
        "      for j in range(i, myList):\n",
        "        items.append(str(item) + str(i*j) + 'ahoy')\n",
        "  return items\n",
        "\n",
        "def functionFoo(myList):\n",
        "  newList = []\n",
        "  for i in range(7):\n",
        "    for j in range(len(myList)):\n",
        "      newList.append(i*myList[j])\n",
        "\n",
        "\n",
        "def testRuntimes(functionName, maxSize):\n",
        "    maxN = int(maxSize)\n",
        "    increment = int(maxSize/100)\n",
        "    if increment <1:\n",
        "      increment = 1\n",
        "    \n",
        "    inputs = []\n",
        "    for i in range(0, maxN +1, increment):\n",
        "        res = random.sample(range(0, maxN), i) \n",
        "        inputs.append(res)\n",
        "    plotRuntimes(traversalFunction, inputs)\n",
        "    \n",
        "\n",
        "def plotRuntimes(func, listOfInputs):\n",
        "    return None\n",
        "\n",
        "# this call tests the runtime of the input function on some random\n",
        "# lists of numbers up to maxListSize\n",
        "# It won't work until you've implemented plotRuntimes\n",
        "testRuntimes(functionAhoy, maxListSize)"
      ],
      "metadata": {
        "id": "o4T3bRa8K0Dj"
      },
      "execution_count": null,
      "outputs": []
    },
    {
      "cell_type": "markdown",
      "source": [
        "## Task 1 - Plotting runtimes\n",
        "\n",
        "- Write a function that loops over the elements of a list and finds their sum. Plot its runtime - what big-O complexity do you think this looks like?\n",
        "\n",
        "- Write a function that loops over the elements of a list and finds the maximum value. Plot its runtime - what big-O complexity do you think this looks like?\n",
        "\n",
        "- Write a function that uses a nested loop to check, for each element of a list, if it is the only occurrence of that item in the list. Plot its runtime - what big-O complexity do you think this looks like?\n",
        "\n",
        "Plot the runtime complexities of the provided functions `doubleTraversalFunction`, `traversalFunction`, `sillyFunction`, `functionAhoy` and `functionFoo`. What do you think their runtime complexity is?\n",
        "\n",
        "It can be hard to tell from the plots sometimes! We will now look at the code directly."
      ],
      "metadata": {
        "id": "_6n0c4DUL1tV"
      }
    },
    {
      "cell_type": "code",
      "source": [
        ""
      ],
      "metadata": {
        "id": "ZOA1ITu2KywE"
      },
      "execution_count": null,
      "outputs": []
    },
    {
      "cell_type": "markdown",
      "source": [
        "## Task 2 - reasoning about runtimes\n",
        "\n",
        "For each of the functions you plotted runtimes for, inspect the code and try to reason about the big-O runtime complexity of that code. \n",
        "- What is the big-O complexity of running traversalFunction and then sillyFunction? \n",
        "- What is the big-O complexity of running functionAhoy and then functionFoo? \n",
        "- What is the big-O complexity of `practiceFunction` below? \n"
      ],
      "metadata": {
        "id": "ZmNXNbdsMQD8"
      }
    },
    {
      "cell_type": "code",
      "source": [
        "def practiceFunction(myList): \n",
        "     for i in range(len(myList)): \n",
        "          traversalFunction(myList)"
      ],
      "metadata": {
        "id": "0VLQR53PMtJ_"
      },
      "execution_count": null,
      "outputs": []
    },
    {
      "cell_type": "markdown",
      "source": [
        "## Task 3 - Stretch Task\n",
        "Try to write functions with the following time complexities:\n",
        "\n",
        "- O(n^5)\n",
        "- O(n!)\n",
        "- O(log n) (this one is really tricky! We'll see an example in the searching cycle)\n",
        "\n",
        "Once you have written them, plot their runtimes with increasing input size to see if the plots agree with your expectations"
      ],
      "metadata": {
        "id": "BSEZLqV-LGyE"
      }
    }
  ]
}