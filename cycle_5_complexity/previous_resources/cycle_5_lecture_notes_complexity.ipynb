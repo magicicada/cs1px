{
 "cells": [
  {
   "cell_type": "markdown",
   "metadata": {},
   "source": [
    "**Running time and Complexity**\n",
    "\n",
    "Today we'll be taking first steps to both understanding and formally reasoning about the time our programs take to run.\n",
    "We will:\n",
    "1. Trace the computation of code\n",
    "2. Plot the running time of code\n",
    "3. Introduce big-O notation\n",
    "\n",
    "At the end of this series of lectures and labs, I would like you to be able to:\n",
    "1. Look at a plot of code running time and say what the likely big-O complexity is\n",
    "2. Predict a plot from a piece of code\n",
    "3. Determine the big-O complexity of a piece of code\n",
    "4. Given the big-O complexities of several pieces of code, know how to combine them if the code is combined\n",
    "\n",
    "We will then use this knowledge to analyse searching and sorting algorithms in the next units.\n",
    "\n",
    "\n",
    "Let's look at a few simple functions:"
   ]
  },
  {
   "cell_type": "code",
   "execution_count": 1,
   "metadata": {},
   "outputs": [],
   "source": [
    "def findSum(myList):\n",
    "    sum = 0\n",
    "    for element in myList:\n",
    "        sum = sum + element\n",
    "    return sum    \n",
    "\n",
    "def findSumOdd(myList):\n",
    "    sum = 0\n",
    "    for element in myList:\n",
    "        if element % 2 != 0:\n",
    "          sum = sum + element\n",
    "    return sum   \n",
    "\n",
    "def findSumAfter(myList):\n",
    "    newList = []\n",
    "    for i in range(len(myList)):\n",
    "            thisSum = 0\n",
    "            for j in range(i, len(myList)):\n",
    "                thisSum = thisSum + myList[j]\n",
    "            newList.append(thisSum)\n",
    "    return newList"
   ]
  },
  {
   "cell_type": "markdown",
   "metadata": {},
   "source": [
    "Let's trace *in enormous detail* how many operations the interpreter does when we call this with (I'll do this on paper in the recording):"
   ]
  },
  {
   "cell_type": "code",
   "execution_count": 2,
   "metadata": {},
   "outputs": [
    {
     "name": "stdout",
     "output_type": "stream",
     "text": [
      "[6, 5, 3]\n"
     ]
    }
   ],
   "source": [
    "findSum([1, 2, 3])\n",
    "findSumOdd([1, 2, 3])\n",
    "print(findSumAfter([1, 2, 3]))"
   ]
  },
  {
   "cell_type": "markdown",
   "metadata": {},
   "source": [
    "Carefully counting the operations our code needs is one way we can look at how long our code will take to run.  We could do this, but it's likely to be a lot of work.  We will move toward a less-precise version of this in the form of big-O notation.  What we're really interested in is how the time it takes to run our code as the input gets bigger.  "
   ]
  },
  {
   "cell_type": "code",
   "execution_count": 3,
   "metadata": {},
   "outputs": [
    {
     "name": "stdout",
     "output_type": "stream",
     "text": [
      "100  6.999999999979245e-06\n",
      "110  4.999999999977245e-06\n",
      "120  1.0000000000010001e-05\n",
      "130  6.999999999979245e-06\n",
      "140  4.000000000004e-06\n",
      "150  5.000000000032756e-06\n",
      "160  1.2000000000012001e-05\n",
      "170  4.999999999977245e-06\n",
      "180  4.999999999977245e-06\n",
      "190  6.0000000000060005e-06\n",
      "200  6.0000000000060005e-06\n",
      "210  8.999999999981245e-06\n",
      "220  1.0000000000010001e-05\n",
      "230  1.2999999999985246e-05\n",
      "240  6.0000000000060005e-06\n",
      "250  8.000000000008e-06\n",
      "260  1.4999999999987246e-05\n",
      "270  1.199999999995649e-05\n",
      "280  8.000000000008e-06\n",
      "290  1.2999999999985246e-05\n",
      "300  8.999999999981245e-06\n",
      "310  1.2999999999985246e-05\n",
      "320  1.0000000000010001e-05\n",
      "330  1.4999999999987246e-05\n",
      "340  1.4000000000014001e-05\n",
      "350  1.0000000000010001e-05\n",
      "360  3.0000000000030003e-05\n",
      "370  1.599999999996049e-05\n",
      "380  1.4999999999987246e-05\n",
      "390  1.4000000000014001e-05\n",
      "400  1.4000000000014001e-05\n",
      "410  1.4000000000014001e-05\n",
      "420  1.6000000000016e-05\n",
      "430  1.5000000000042757e-05\n",
      "440  1.6000000000016e-05\n",
      "450  1.4000000000014001e-05\n",
      "460  3.999999999998449e-05\n",
      "470  4.999999999999449e-05\n",
      "480  4.2000000000042004e-05\n",
      "490  1.6999999999989246e-05\n",
      "500  2.2000000000022002e-05\n",
      "510  1.799999999996249e-05\n",
      "520  2.399999999996849e-05\n",
      "530  1.6999999999989246e-05\n",
      "540  1.9000000000046757e-05\n",
      "550  1.8000000000018e-05\n",
      "560  1.8000000000018e-05\n",
      "570  2.0000000000020002e-05\n",
      "580  1.9000000000046757e-05\n",
      "590  1.999999999996449e-05\n",
      "600  2.0000000000020002e-05\n",
      "610  2.2000000000022002e-05\n",
      "620  2.2000000000022002e-05\n",
      "630  4.500000000001725e-05\n",
      "640  0.000136000000000025\n",
      "650  2.2999999999995246e-05\n",
      "660  2.399999999996849e-05\n",
      "670  2.4999999999997247e-05\n",
      "680  2.4000000000024002e-05\n",
      "690  2.399999999996849e-05\n",
      "700  2.999999999997449e-05\n",
      "710  2.5000000000052758e-05\n",
      "720  3.500000000000725e-05\n",
      "730  2.6999999999999247e-05\n",
      "740  2.5000000000052758e-05\n",
      "750  4.099999999995774e-05\n",
      "760  3.100000000000325e-05\n",
      "770  0.000160000000000049\n",
      "780  2.8000000000028002e-05\n",
      "790  2.6999999999999247e-05\n",
      "800  2.8000000000028002e-05\n",
      "810  2.8999999999945736e-05\n",
      "820  2.8000000000028002e-05\n",
      "830  2.8999999999945736e-05\n",
      "840  2.9000000000056758e-05\n",
      "850  2.8999999999945736e-05\n",
      "860  2.999999999997449e-05\n",
      "870  2.9000000000056758e-05\n",
      "880  3.300000000006076e-05\n",
      "890  2.9000000000056758e-05\n",
      "900  3.2999999999949736e-05\n",
      "910  3.2000000000032e-05\n",
      "920  3.100000000000325e-05\n",
      "930  3.399999999997849e-05\n",
      "940  3.100000000000325e-05\n",
      "950  3.399999999997849e-05\n",
      "960  3.399999999997849e-05\n",
      "970  3.399999999997849e-05\n",
      "980  3.2999999999949736e-05\n",
      "990  3.199999999992098e-05\n"
     ]
    }
   ],
   "source": [
    "import time\n",
    "\n",
    "inputLists = []\n",
    "for i in range(100, 1000, 10):\n",
    "    inputLists.append([1]*i)\n",
    "    \n",
    "for test in inputLists:\n",
    "    t = time.process_time()\n",
    "    findSum(test)\n",
    "    elapsed_time = time.process_time() - t\n",
    "    print(str(len(test)) + \"  \" + str(elapsed_time))\n",
    "    \n",
    "\n",
    "\n",
    "\n"
   ]
  },
  {
   "cell_type": "code",
   "execution_count": 36,
   "metadata": {},
   "outputs": [
    {
     "data": {
      "image/png": "[encoded data removed]",
      "text/plain": [
       "<Figure size 432x288 with 1 Axes>"
      ]
     },
     "metadata": {
      "needs_background": "light"
     },
     "output_type": "display_data"
    }
   ],
   "source": [
    "\n",
    "\n",
    "import matplotlib.pyplot as plt\n",
    "\n",
    "def plotRuntimes(func, listOfInputs):\n",
    "    times = []\n",
    "    sizes = []\n",
    "    for inputItem in listOfInputs:\n",
    "        sizes.append(len(inputItem))\n",
    "        t = time.process_time()\n",
    "        func(inputItem)\n",
    "        elapsed_time = time.process_time() - t\n",
    "        times.append(elapsed_time)\n",
    "    plt.plot(sizes, times)\n",
    "    plt.show()\n",
    "    \n",
    "inputLists = []\n",
    "\n",
    "for i in range(10, 100, 10):\n",
    "     inputLists.append([1]*i)\n",
    "\n",
    "plotRuntimes(findSumAfter, inputLists)"
   ]
  },
  {
   "cell_type": "markdown",
   "metadata": {},
   "source": [
    "If we want to be more analytical, the idea of big-O notation can help us.  \n",
    "\n",
    "What is big-O notation?\n",
    "\n",
    "If f(n) is a function, and n is the size of the input to some code or algorithm, then we say that our code is O(f(n)) if, for a big enough n, the runtime of our code is upper-bounded by k*f(n)\n",
    "\n",
    "Let's draw some examples on paper:\n",
    "<I'll draw some examples out on the recording here>\n",
    "\n",
    "Now, let's talk about some examples:\n",
    "\n",
    "- O(1)\n",
    "- O(n)\n",
    "- O(n<sup>2</sup>)\n"
   ]
  },
  {
   "cell_type": "markdown",
   "metadata": {},
   "source": [
    "Let's try to go the other way.  What are the big-O complexities of our functions from before?\n",
    "\n"
   ]
  },
  {
   "cell_type": "code",
   "execution_count": 4,
   "metadata": {},
   "outputs": [],
   "source": [
    "def findSum(myList):\n",
    "    sum = 0\n",
    "    for element in myList:\n",
    "        sum = sum + element\n",
    "    return sum \n",
    "\n",
    "\n",
    "def findSumOdd(myList):\n",
    "    sum = 0\n",
    "    for element in myList:\n",
    "        if element % 2 != 0:\n",
    "          sum = sum + element\n",
    "    return sum   \n",
    "\n",
    "def findSumAfter(myList):\n",
    "    newList = []\n",
    "    for i in range(len(myList)):\n",
    "            thisSum = 0\n",
    "            for j in range(i, len(myList)):\n",
    "                thisSum = thisSum + myList[j]\n",
    "            newList.append(thisSum)\n",
    "    return newList"
   ]
  },
  {
   "cell_type": "markdown",
   "metadata": {},
   "source": [
    "**Let's talk about how we combine the big-O running times of pieces of code.**\n",
    "\n",
    "First: because we are talking about *very large inputs (asymptotics)*, we only care about the dominant term.\n",
    "    \n",
    "E.g.: if a<b, then O(n<sup>a</sup>) + O(n<sup>b</sup>) gives us O(n<sup>b</sup>)\n",
    "\n",
    "eg: \n",
    "- O(n<sup>2</sup>) + O(n) gives us O(n<sup>2</sup>)\n",
    "- O(n<sup>4</sup>) + O(n<sup>5</sup>) gives us O(n<sup>5</sup>)"
   ]
  },
  {
   "cell_type": "markdown",
   "metadata": {},
   "source": [
    "So! What about if we call our various functions in combination?\n",
    "\n",
    "Do these as an exercise - what is the big-O complexity of each?\n",
    "- findSum twice\n",
    "- findSum and then findSumOdd\n",
    "- findSumOff and then findSumAfter\n"
   ]
  },
  {
   "cell_type": "code",
   "execution_count": null,
   "metadata": {},
   "outputs": [],
   "source": []
  }
 ],
 "metadata": {
  "kernelspec": {
   "display_name": "Python 3",
   "language": "python",
   "name": "python3"
  },
  "language_info": {
   "codemirror_mode": {
    "name": "ipython",
    "version": 3
   },
   "file_extension": ".py",
   "mimetype": "text/x-python",
   "name": "python",
   "nbconvert_exporter": "python",
   "pygments_lexer": "ipython3",
   "version": "3.7.6"
  }
 },
 "nbformat": 4,
 "nbformat_minor": 2
}
