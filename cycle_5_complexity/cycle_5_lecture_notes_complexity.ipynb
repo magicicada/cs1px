{
 "cells": [
  {
   "cell_type": "markdown",
   "metadata": {},
   "source": [
    "**Running time and Complexity**\n",
    "\n",
    "Today we'll be taking first steps to both understanding and formally reasoning about the time our programs take to run.\n",
    "We will:\n",
    "1. Trace the computation of code\n",
    "2. Plot the running time of code\n",
    "3. Introduce big-O notation\n",
    "\n",
    "At the end of this series of lectures and labs, I would like you to be able to:\n",
    "1. Look at a plot of code running time and say what the likely big-O complexity is\n",
    "2. Predict a plot from a piece of code\n",
    "3. Determine the big-O complexity of a piece of code\n",
    "4. Given the big-O complexities of several pieces of code, know how to combine them if the code is combined\n",
    "\n",
    "We will then use this knowledge to analyse searching and sorting algorithms in the next units.\n",
    "\n",
    "\n",
    "Let's look at a few simple functions:"
   ]
  },
  {
   "cell_type": "code",
   "execution_count": 2,
   "metadata": {},
   "outputs": [],
   "source": [
    "def findSum(myList):\n",
    "    sum = 0\n",
    "    for element in myList:\n",
    "        sum = sum + element\n",
    "    return sum    \n",
    "\n",
    "def findSumOdd(myList):\n",
    "    sum = 0\n",
    "    for element in myList:\n",
    "        if element % 2 != 0:\n",
    "          sum = sum + element\n",
    "    return sum   \n",
    "\n",
    "def findSumAfter(myList):\n",
    "    newList = []\n",
    "    for i in range(len(myList)):\n",
    "            thisSum = 0\n",
    "            for j in range(i, len(myList)):\n",
    "                thisSum = thisSum + myList[j]\n",
    "            newList.append(thisSum)\n",
    "    return newList"
   ]
  },
  {
   "cell_type": "markdown",
   "metadata": {},
   "source": [
    "Let's trace *in enormous detail* how many operations the interpreter does when we call this with (I'll do this on paper in the recording):"
   ]
  },
  {
   "cell_type": "code",
   "execution_count": 2,
   "metadata": {},
   "outputs": [
    {
     "name": "stdout",
     "output_type": "stream",
     "text": [
      "[6, 5, 3]\n"
     ]
    }
   ],
   "source": [
    "findSum([1, 2, 3])\n",
    "findSumOdd([1, 2, 3])\n",
    "print(findSumAfter([1, 2, 3]))"
   ]
  },
  {
   "cell_type": "markdown",
   "metadata": {},
   "source": [
    "Carefully counting the operations our code needs is one way we can look at how long our code will take to run.  We could do this, but it's likely to be a lot of work.  We will move toward a less-precise version of this in the form of big-O notation.  What we're really interested in is how the time it takes to run our code as the input gets bigger.  "
   ]
  },
  {
   "cell_type": "code",
   "execution_count": 3,
   "metadata": {},
   "outputs": [
    {
     "name": "stdout",
     "output_type": "stream",
     "text": [
      "100  6.000000000061512e-06\n",
      "110  5.000000000032756e-06\n",
      "120  6.000000000061512e-06\n",
      "130  6.999999999979245e-06\n",
      "140  4.999999999921734e-06\n",
      "150  1.6999999999933735e-05\n",
      "160  1.399999999995849e-05\n",
      "170  5.999999999950489e-06\n",
      "180  8.000000000008e-06\n",
      "190  9.000000000036756e-06\n",
      "200  8.000000000008e-06\n",
      "210  8.999999999925734e-06\n",
      "220  7.000000000090267e-06\n",
      "230  8.000000000008e-06\n",
      "240  1.0000000000065512e-05\n",
      "250  9.000000000036756e-06\n",
      "260  8.999999999925734e-06\n",
      "270  1.0000000000065512e-05\n",
      "280  1.0999999999983245e-05\n",
      "290  9.000000000036756e-06\n",
      "300  1.3000000000040757e-05\n",
      "310  1.0999999999983245e-05\n",
      "320  8.999999999925734e-06\n",
      "330  1.2999999999929734e-05\n",
      "340  1.0999999999983245e-05\n",
      "350  1.0999999999983245e-05\n",
      "360  1.399999999995849e-05\n",
      "370  5.500000000002725e-05\n",
      "380  3.399999999997849e-05\n",
      "390  1.4000000000069512e-05\n",
      "400  1.399999999995849e-05\n",
      "410  1.799999999996249e-05\n",
      "420  4.899999999996574e-05\n",
      "430  1.799999999996249e-05\n",
      "440  1.4999999999987246e-05\n",
      "450  1.6999999999933735e-05\n",
      "460  1.799999999996249e-05\n",
      "470  1.599999999990498e-05\n",
      "480  1.6000000000016e-05\n",
      "490  1.6000000000016e-05\n",
      "500  1.8999999999991246e-05\n",
      "510  1.799999999996249e-05\n",
      "520  1.6999999999933735e-05\n",
      "530  2.0000000000020002e-05\n",
      "540  1.999999999990898e-05\n",
      "550  1.8999999999991246e-05\n",
      "560  1.799999999996249e-05\n",
      "570  1.900000000010227e-05\n",
      "580  2.0999999999937735e-05\n",
      "590  2.0000000000020002e-05\n",
      "600  2.2000000000077513e-05\n",
      "610  2.0000000000020002e-05\n",
      "620  2.199999999996649e-05\n",
      "630  2.599999999997049e-05\n",
      "640  3.6000000000036e-05\n",
      "650  2.5000000000052758e-05\n",
      "660  2.5000000000052758e-05\n",
      "670  2.6999999999999247e-05\n",
      "680  2.199999999996649e-05\n",
      "690  2.799999999991698e-05\n",
      "700  2.2999999999995246e-05\n",
      "710  2.999999999997449e-05\n",
      "720  4.599999999999049e-05\n",
      "730  2.9000000000056758e-05\n",
      "740  2.4999999999941735e-05\n",
      "750  2.6999999999999247e-05\n",
      "760  2.599999999997049e-05\n",
      "770  2.6000000000081513e-05\n",
      "780  2.5000000000052758e-05\n",
      "790  7.899999999994023e-05\n",
      "800  3.0000000000085514e-05\n",
      "810  2.6999999999999247e-05\n",
      "820  2.799999999991698e-05\n",
      "830  3.0000000000085514e-05\n",
      "840  2.999999999997449e-05\n",
      "850  3.100000000000325e-05\n",
      "860  3.0000000000085514e-05\n",
      "870  3.799999999998249e-05\n",
      "880  8.699999999994823e-05\n",
      "890  3.100000000000325e-05\n",
      "900  2.999999999997449e-05\n",
      "910  4.999999999999449e-05\n",
      "920  5.6000000000056005e-05\n",
      "930  4.599999999999049e-05\n",
      "940  3.199999999992098e-05\n",
      "950  0.00012500000000004174\n",
      "960  4.099999999995774e-05\n",
      "970  3.300000000006076e-05\n",
      "980  3.4000000000089514e-05\n",
      "990  3.6000000000036e-05\n"
     ]
    }
   ],
   "source": [
    "import time\n",
    "\n",
    "inputLists = []\n",
    "for i in range(100, 1000, 10):\n",
    "    inputLists.append([1]*i)\n",
    "    \n",
    "for test in inputLists:\n",
    "    t = time.process_time()\n",
    "    findSum(test)\n",
    "    elapsed_time = time.process_time() - t\n",
    "    print(str(len(test)) + \"  \" + str(elapsed_time))\n",
    "    \n",
    "\n",
    "\n",
    "\n"
   ]
  },
  {
   "cell_type": "code",
   "execution_count": 21,
   "metadata": {},
   "outputs": [
    {
     "name": "stdout",
     "output_type": "stream",
     "text": [
      "plotting in progress\n"
     ]
    },
    {
     "data": {
      "image/png": "[encoded data removed]",
      "text/plain": [
       "<Figure size 432x288 with 1 Axes>"
      ]
     },
     "metadata": {
      "needs_background": "light"
     },
     "output_type": "display_data"
    },
    {
     "name": "stdout",
     "output_type": "stream",
     "text": [
      "plotting complete\n"
     ]
    }
   ],
   "source": [
    "\n",
    "\n",
    "import matplotlib.pyplot as plt\n",
    "\n",
    "def plotRuntimes(func, listOfInputs):\n",
    "    times = []\n",
    "    sizes = []\n",
    "    for inputItem in listOfInputs:\n",
    "        sizes.append(len(inputItem))\n",
    "        t = time.process_time()\n",
    "        func(inputItem)\n",
    "        elapsed_time = time.process_time() - t\n",
    "        times.append(elapsed_time)\n",
    "    plt.plot(sizes, times)\n",
    "    plt.xlabel('size of input')\n",
    "    plt.ylabel('runtime')\n",
    "    plt.show()\n",
    "    \n",
    "inputLists = []\n",
    "\n",
    "def iterative_binary_search(my_list):\n",
    "    value = 50\n",
    "    lo =  0\n",
    "    hi = len(my_list)-1\n",
    "    while lo <= hi:\n",
    "        mid = (lo + hi) // 2\n",
    "        if my_list[mid] < value:\n",
    "            lo = mid + 1\n",
    "        elif value < my_list[mid]:\n",
    "            hi = mid - 1\n",
    "        else:\n",
    "            return mid\n",
    "    return -1\n",
    "\n",
    "for i in range(10, 50000, 100):\n",
    "    inputLists.append([1]*i)\n",
    "\n",
    "print('plotting in progress')\n",
    "# plotRuntimes(iterative_binary_search, inputLists)\n",
    "plotRuntimes(findSum, inputLists)\n",
    "print('plotting complete')"
   ]
  },
  {
   "cell_type": "markdown",
   "metadata": {},
   "source": [
    "If we want to be more analytical, the idea of big-O notation can help us.  \n",
    "\n",
    "What is big-O notation?\n",
    "\n",
    "If f(n) is a function, and n is the size of the input to some code or algorithm, then we say that our code is O(f(n)) if, for a big enough n, the runtime of our code is upper-bounded by k*f(n)\n",
    "\n",
    "Let's look at some of our examples. What are the big-O complexities of our functions from before?\n",
    "\n",
    "<we will work through each in detail in the video, I'll place answers below>\n"
   ]
  },
  {
   "cell_type": "code",
   "execution_count": 4,
   "metadata": {},
   "outputs": [],
   "source": [
    "def findSum(myList):\n",
    "    sum = 0\n",
    "    for element in myList:\n",
    "        sum = sum + element\n",
    "    return sum \n",
    "\n",
    "\n",
    "def findSumOdd(myList):\n",
    "    sum = 0\n",
    "    for element in myList:\n",
    "        if element % 2 != 0:\n",
    "          sum = sum + element\n",
    "    return sum   \n",
    "\n",
    "def findSumAfter(myList):\n",
    "    newList = []\n",
    "    for i in range(len(myList)):\n",
    "            thisSum = 0\n",
    "            for j in range(i, len(myList)):\n",
    "                thisSum = thisSum + myList[j]\n",
    "            newList.append(thisSum)\n",
    "    return newList"
   ]
  },
  {
   "cell_type": "markdown",
   "metadata": {},
   "source": [
    "To find the big-O complexities of our code, we need to argue about how long the code will take as the size of the input increases.  After our video-worked examples, we find that the above have:\n",
    "- findSum is O(n)\n",
    "- findSumOdd is O(n)\n",
    "- findSumAfter is O(n<sup>2</sup>)\n",
    "\n",
    "Can you think of a piece of code that would be O(1)?  How about O(n<sup>3</sup>)?\n",
    "\n",
    "Later in the course we'll see an example of O(log n)\n"
   ]
  },
  {
   "cell_type": "markdown",
   "metadata": {},
   "source": [
    "**Let's talk about how we combine the big-O running times of pieces of code.**\n",
    "\n",
    "First: because we are talking about *very large inputs (asymptotics)*, we only care about the dominant term.\n",
    "    \n",
    "E.g.: if a<b, then O(n<sup>a</sup>) + O(n<sup>b</sup>) gives us O(n<sup>b</sup>)\n",
    "\n",
    "eg: \n",
    "- O(n<sup>2</sup>) + O(n) gives us O(n<sup>2</sup>)\n",
    "- O(n<sup>4</sup>) + O(n<sup>5</sup>) gives us O(n<sup>5</sup>)"
   ]
  },
  {
   "cell_type": "markdown",
   "metadata": {},
   "source": [
    "So! What about if we call our various functions in combination?\n",
    "\n",
    "Do these as an exercise - what is the big-O complexity of each?\n",
    "- findSum twice- O(n) + O(n) = ??\n",
    "- findSum and then findSumOdd - O(n) + O(n) = ??\n",
    "- findSumOdd and then findSumAfter - O(n) + O(n^2) = ??\n"
   ]
  },
  {
   "cell_type": "code",
   "execution_count": null,
   "metadata": {},
   "outputs": [],
   "source": []
  }
 ],
 "metadata": {
  "kernelspec": {
   "display_name": "Python 3",
   "language": "python",
   "name": "python3"
  },
  "language_info": {
   "codemirror_mode": {
    "name": "ipython",
    "version": 3
   },
   "file_extension": ".py",
   "mimetype": "text/x-python",
   "name": "python",
   "nbconvert_exporter": "python",
   "pygments_lexer": "ipython3",
   "version": "3.7.6"
  }
 },
 "nbformat": 4,
 "nbformat_minor": 2
}
