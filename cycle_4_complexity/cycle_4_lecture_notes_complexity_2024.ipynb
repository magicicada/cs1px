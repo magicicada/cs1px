{
  "cells": [
    {
      "cell_type": "markdown",
      "metadata": {
        "id": "_8bwg6kw73V2"
      },
      "source": [
        "**Running time and Complexity**\n",
        "\n",
        "Today we'll be taking first steps to both understanding and formally reasoning about the time our programs take to run.\n",
        "We will:\n",
        "1. Trace the computation of code\n",
        "2. Plot the running time of code\n",
        "3. Introduce big-O notation\n",
        "\n",
        "At the end of this series of lectures and labs, I would like you to be able to:\n",
        "1. Look at a plot of code running time and say what the likely big-O complexity is\n",
        "2. Predict a plot from a piece of code\n",
        "3. Determine the big-O complexity of a piece of code\n",
        "4. Given the big-O complexities of several pieces of code, know how to combine them if the code is combined\n",
        "\n",
        "We will then use this knowledge to analyse sorting algorithms\n",
        "\n",
        "\n",
        "Let's look at a few simple functions:"
      ]
    },
    {
      "cell_type": "code",
      "execution_count": null,
      "metadata": {
        "id": "wWvVVRE873V5"
      },
      "outputs": [],
      "source": [
        "def findSum(myList):\n",
        "    sum = 0\n",
        "    for element in myList:\n",
        "        sum = sum + element\n",
        "    return sum\n",
        "\n",
        "def findSumOdd(myList):\n",
        "    sum = 0\n",
        "    for element in myList:\n",
        "        if element % 2 != 0:\n",
        "          sum = sum + element\n",
        "    return sum\n",
        "\n",
        "def findSumAfter(myList):\n",
        "    newList = []\n",
        "    for i in range(len(myList)):\n",
        "            thisSum = 0\n",
        "            for j in range(i, len(myList)):\n",
        "                thisSum = thisSum + myList[j]\n",
        "            newList.append(thisSum)\n",
        "    return newList"
      ]
    },
    {
      "cell_type": "markdown",
      "metadata": {
        "id": "hTXwD1wB73V6"
      },
      "source": [
        "Let's trace *in enormous detail* how many operations the interpreter does when we call this with (I'll do this on paper in lecture):"
      ]
    },
    {
      "cell_type": "code",
      "execution_count": null,
      "metadata": {
        "id": "DXhWT83O73V6",
        "outputId": "d1a6e1a5-73b4-432e-d806-416b5e9aad5a"
      },
      "outputs": [
        {
          "name": "stdout",
          "output_type": "stream",
          "text": [
            "[6, 5, 3]\n"
          ]
        }
      ],
      "source": [
        "findSum([1, 2, 3])\n",
        "findSumOdd([1, 2, 3])\n",
        "print(findSumAfter([1, 2, 3]))"
      ]
    },
    {
      "cell_type": "markdown",
      "metadata": {
        "id": "7N96Kl2673V6"
      },
      "source": [
        "Carefully counting the operations our code needs is one way we can look at how long our code will take to run.  We could do this, but it's likely to be a lot of work.  We will move toward a less-precise version of this in the form of big-O notation.  What we're really interested in is how the time it takes to run our code as the input gets bigger.  "
      ]
    },
    {
      "cell_type": "code",
      "execution_count": null,
      "metadata": {
        "colab": {
          "base_uri": "https://localhost:8080/"
        },
        "id": "yhcYf3p773V7",
        "outputId": "602d0b7d-822e-4746-c79b-a5589751968e"
      },
      "outputs": [
        {
          "output_type": "stream",
          "name": "stdout",
          "text": [
            "100  1674818138.6734276\n",
            "110  1674818138.6733303\n",
            "120  1674818138.6733294\n",
            "130  1674818138.6733308\n",
            "140  1674818138.6733491\n",
            "150  1674818138.673831\n",
            "160  1674818138.6738508\n",
            "170  1674818138.673856\n",
            "180  1674818138.6738734\n",
            "190  1674818138.6738644\n",
            "200  1674818138.673873\n",
            "210  1674818138.6738746\n",
            "220  1674818138.6741672\n",
            "230  1674818138.6741831\n",
            "240  1674818138.6746173\n",
            "250  1674818138.67465\n",
            "260  1674818138.6746411\n",
            "270  1674818138.6746566\n",
            "280  1674818138.674647\n",
            "290  1674818138.6746485\n",
            "300  1674818138.6746724\n",
            "310  1674818138.6746604\n",
            "320  1674818138.6746612\n",
            "330  1674818138.674665\n",
            "340  1674818138.6746888\n",
            "350  1674818138.6746767\n",
            "360  1674818138.674678\n",
            "370  1674818138.6746855\n",
            "380  1674818138.6746821\n",
            "390  1674818138.6746838\n",
            "400  1674818138.674685\n",
            "410  1674818138.6747158\n",
            "420  1674818138.6747003\n",
            "430  1674818138.6746986\n",
            "440  1674818138.6746943\n",
            "450  1674818138.674695\n",
            "460  1674818138.6746964\n",
            "470  1674818138.6746986\n",
            "480  1674818138.6747026\n",
            "490  1674818138.674702\n",
            "500  1674818138.6747205\n",
            "510  1674818138.674708\n",
            "520  1674818138.6747243\n",
            "530  1674818138.6747267\n",
            "540  1674818138.6747265\n",
            "550  1674818138.6747196\n",
            "560  1674818138.6747248\n",
            "570  1674818138.6747448\n",
            "580  1674818138.6747231\n",
            "590  1674818138.6747289\n",
            "600  1674818138.6747396\n",
            "610  1674818138.6747286\n",
            "620  1674818138.674726\n",
            "630  1674818138.6747384\n",
            "640  1674818138.6750696\n",
            "650  1674818138.6746247\n",
            "660  1674818138.674599\n",
            "670  1674818138.6745896\n",
            "680  1674818138.674578\n",
            "690  1674818138.6745577\n",
            "700  1674818138.6745949\n",
            "710  1674818138.674552\n",
            "720  1674818138.674505\n",
            "730  1674818138.6744897\n",
            "740  1674818138.6732695\n",
            "750  1674818138.6728992\n",
            "760  1674818138.672908\n",
            "770  1674818138.672885\n",
            "780  1674818138.6729264\n",
            "790  1674818138.6728544\n",
            "800  1674818138.6728184\n",
            "810  1674818138.6727839\n",
            "820  1674818138.6727738\n",
            "830  1674818138.6727548\n",
            "840  1674818138.6727371\n",
            "850  1674818138.6727214\n",
            "860  1674818138.6726835\n",
            "870  1674818138.6726823\n",
            "880  1674818138.671896\n",
            "890  1674818138.67185\n",
            "900  1674818138.6718404\n",
            "910  1674818138.6718264\n",
            "920  1674818138.6718066\n",
            "930  1674818138.671789\n",
            "940  1674818138.671773\n",
            "950  1674818138.671756\n",
            "960  1674818138.67174\n",
            "970  1674818138.6717253\n",
            "980  1674818138.671831\n",
            "990  1674818138.6718156\n"
          ]
        }
      ],
      "source": [
        "import time\n",
        "\n",
        "inputLists = []\n",
        "for i in range(100, 1000, 10):\n",
        "    inputLists.append([1]*i)\n",
        "\n",
        "for test in inputLists:\n",
        "    t = time.process_time()\n",
        "    findSum(test)\n",
        "    elapsed_time = time.time() - t\n",
        "    print(str(len(test)) + \"  \" + str(elapsed_time))\n",
        "\n",
        "\n",
        "\n",
        "\n"
      ]
    },
    {
      "cell_type": "code",
      "execution_count": null,
      "metadata": {
        "colab": {
          "base_uri": "https://localhost:8080/",
          "height": 314
        },
        "id": "3YNOdM9073V7",
        "outputId": "f98c31c3-ed11-46ff-e900-14ba8e4c3a26"
      },
      "outputs": [
        {
          "output_type": "stream",
          "name": "stdout",
          "text": [
            "plotting in progress - fundSum\n"
          ]
        },
        {
          "output_type": "display_data",
          "data": {
            "text/plain": [
              "<Figure size 432x288 with 1 Axes>"
            ],
            "image/png": "[encoded data removed]"
          },
          "metadata": {
            "needs_background": "light"
          }
        },
        {
          "output_type": "stream",
          "name": "stdout",
          "text": [
            "plotting complete\n"
          ]
        }
      ],
      "source": [
        "\n",
        "\n",
        "import matplotlib.pyplot as plt\n",
        "import time\n",
        "\n",
        "def plotRuntimes(func, listOfInputs):\n",
        "    plt.clf()\n",
        "    times = []\n",
        "    sizes = []\n",
        "    for inputItem in listOfInputs:\n",
        "        sizes.append(len(inputItem))\n",
        "        t = time.process_time()\n",
        "        func(inputItem)\n",
        "        elapsed_time = time.process_time() - t\n",
        "        times.append(elapsed_time)\n",
        "    plt.plot(sizes, times)\n",
        "    plt.xlabel('size of input')\n",
        "    plt.ylabel('runtime')\n",
        "    plt.show()\n",
        "\n",
        "inputLists = []\n",
        "\n",
        "def iterative_binary_search(my_list):\n",
        "    value = 50\n",
        "    lo =  0\n",
        "    hi = len(my_list)-1\n",
        "    while lo <= hi:\n",
        "        mid = (lo + hi) // 2\n",
        "        if my_list[mid] < value:\n",
        "            lo = mid + 1\n",
        "        elif value < my_list[mid]:\n",
        "            hi = mid - 1\n",
        "        else:\n",
        "            return mid\n",
        "    return -1\n",
        "\n",
        "for i in range(10, 50000, 100):\n",
        "    inputLists.append([1]*i)\n",
        "\n",
        "print('plotting in progress - fundSum')\n",
        "# plotRuntimes(iterative_binary_search, inputLists)\n",
        "plotRuntimes(findSum, inputLists)\n",
        "print('plotting complete')\n",
        "\n"
      ]
    },
    {
      "cell_type": "code",
      "source": [
        "inputLists = []\n",
        "for i in range(10, 1000, 10):\n",
        "     inputLists.append([1]*i)\n",
        "# print(inputLists)\n",
        "\n",
        "print('plotting in progress - findSumAfter')\n",
        "# plotRuntimes(iterative_binary_search, inputLists)\n",
        "plotRuntimes(findSumAfter, inputLists)\n",
        "print('plotting complete')"
      ],
      "metadata": {
        "colab": {
          "base_uri": "https://localhost:8080/",
          "height": 314
        },
        "id": "_Z9L4qmdCBQs",
        "outputId": "7d13dfcd-ebff-4b2e-d9fc-b2200c5a4b6a"
      },
      "execution_count": null,
      "outputs": [
        {
          "output_type": "stream",
          "name": "stdout",
          "text": [
            "plotting in progress - findSumAfter\n"
          ]
        },
        {
          "output_type": "display_data",
          "data": {
            "text/plain": [
              "<Figure size 432x288 with 1 Axes>"
            ],
            "image/png": "[encoded data removed]"
          },
          "metadata": {
            "needs_background": "light"
          }
        },
        {
          "output_type": "stream",
          "name": "stdout",
          "text": [
            "plotting complete\n"
          ]
        }
      ]
    },
    {
      "cell_type": "code",
      "source": [
        "inputLists = []\n",
        "for i in range(10, 500000, 1000):\n",
        "    inputLists.append([1]*i)\n",
        "\n",
        "print('plotting in progress - binary search')\n",
        "plotRuntimes(iterative_binary_search, inputLists)\n",
        "print('plotting complete')"
      ],
      "metadata": {
        "colab": {
          "base_uri": "https://localhost:8080/",
          "height": 325
        },
        "id": "Jmv6OBOJDVK4",
        "outputId": "7482a6b3-0e40-4404-eab4-d0259f92938d"
      },
      "execution_count": null,
      "outputs": [
        {
          "output_type": "stream",
          "name": "stdout",
          "text": [
            "plotting in progress - binary search\n"
          ]
        },
        {
          "output_type": "display_data",
          "data": {
            "text/plain": [
              "<Figure size 432x288 with 1 Axes>"
            ],
            "image/png": "[encoded data removed]"
          },
          "metadata": {
            "needs_background": "light"
          }
        },
        {
          "output_type": "stream",
          "name": "stdout",
          "text": [
            "plotting complete\n"
          ]
        }
      ]
    },
    {
      "cell_type": "markdown",
      "metadata": {
        "id": "3u4gI5zN73V8"
      },
      "source": [
        "If we want to be more analytical, the idea of big-O notation can help us.  \n",
        "\n",
        "What is big-O notation?\n",
        "\n",
        "If f(n) is a function, and n is the size of the input to some code or algorithm, then we say that our code is O(f(n)) if, for a big enough n, the runtime of our code is upper-bounded by k*f(n)\n",
        "\n",
        "Let's look at some of our examples. What are the big-O complexities of our functions from before?\n",
        "\n",
        "<we will work through detail in lecture, I'll place answers below>\n"
      ]
    },
    {
      "cell_type": "code",
      "execution_count": null,
      "metadata": {
        "id": "8z9iANVI73V8"
      },
      "outputs": [],
      "source": [
        "def findSum(myList):\n",
        "    sum = 0\n",
        "    for element in myList:\n",
        "        sum = sum + element\n",
        "    return sum\n",
        "\n",
        "\n",
        "def findSumOdd(myList):\n",
        "    sum = 0\n",
        "    for element in myList:\n",
        "        if element % 2 != 0:\n",
        "          sum = sum + element\n",
        "    return sum\n",
        "\n",
        "def findSumAfter(myList):\n",
        "    newList = []\n",
        "    for i in range(len(myList)):\n",
        "            thisSum = 0\n",
        "            for j in range(i, len(myList)):\n",
        "                thisSum = thisSum + myList[j]\n",
        "            newList.append(thisSum)\n",
        "    return newList"
      ]
    },
    {
      "cell_type": "markdown",
      "metadata": {
        "id": "pOudkKoT73V8"
      },
      "source": [
        "To find the big-O complexities of our code, we need to argue about how long the code will take as the size of the input increases.  After our worked examples, we find that the above have:\n",
        "- findSum is O(n)\n",
        "- findSumOdd is O(n)\n",
        "- findSumAfter is O(n<sup>2</sup>)\n",
        "\n",
        "Can you think of a piece of code that would be O(1)?  How about O(n<sup>3</sup>)?\n",
        "\n"
      ]
    },
    {
      "cell_type": "markdown",
      "metadata": {
        "id": "G2idGhOC73V9"
      },
      "source": [
        "**Let's talk about how we combine the big-O running times of pieces of code.**\n",
        "\n",
        "First: because we are talking about *very large inputs (asymptotics)*, we only care about the dominant term.\n",
        "    \n",
        "E.g.: if a<b, then O(n<sup>a</sup>) + O(n<sup>b</sup>) gives us O(n<sup>b</sup>)\n",
        "\n",
        "eg:\n",
        "- O(n<sup>2</sup>) + O(n) gives us O(n<sup>2</sup>)\n",
        "- O(n<sup>4</sup>) + O(n<sup>5</sup>) gives us O(n<sup>5</sup>)"
      ]
    },
    {
      "cell_type": "markdown",
      "metadata": {
        "id": "KF8lsQIx73V9"
      },
      "source": [
        "So! What about if we call our various functions in combination?\n",
        "\n",
        "Do these as an exercise - what is the big-O complexity of each?\n",
        "- findSum twice- O(n) + O(n) = ??\n",
        "- findSum and then findSumOdd - O(n) + O(n) = ??\n",
        "- findSumOdd and then findSumAfter - O(n) + O(n^2) = ??\n"
      ]
    },
    {
      "cell_type": "markdown",
      "source": [
        "## Time complexity and searching\n",
        "\n",
        "Let's think about the big-O time complexity of the two searching algorithms we've talked about: simple search and binary search.  We know that binary search is faster, but how does this appear formally in big-O?\n",
        "\n",
        "First let's talk about simple search.  What is the time complexity of the below?"
      ],
      "metadata": {
        "id": "cmU46Vtz2kvj"
      }
    },
    {
      "cell_type": "code",
      "execution_count": null,
      "metadata": {
        "id": "LbK3QE1z73V9"
      },
      "outputs": [],
      "source": [
        "def simple_search(my_list, value):\n",
        "  for i in range(len(my_list)):\n",
        "    if my_list[i] == value:\n",
        "      return i\n",
        "  return None"
      ]
    },
    {
      "cell_type": "markdown",
      "source": [
        "Now let's trace binary search to try to get some big-O intuition:"
      ],
      "metadata": {
        "id": "bfxtq53l4MWC"
      }
    },
    {
      "cell_type": "code",
      "source": [
        "my_list = [-3, 0, 1, 19, 20, 22, 32]\n",
        "\n",
        "def binary_search(my_list, lo, hi, value):\n",
        "    if len(my_list) < 1:\n",
        "        return -1\n",
        "    if lo > hi:\n",
        "        return -1\n",
        "    mid = lo + hi // 2\n",
        "    mid_value = my_list[mid]\n",
        "\n",
        "    if mid_value == value:\n",
        "        return mid\n",
        "    elif mid_value < value:\n",
        "        return binary_search(my_list, mid + 1, hi, value)\n",
        "    else:\n",
        "        return binary_search(my_list, lo, mid - 1, value)\n",
        "\n",
        "\n",
        "my_list = [-3, 0, 1, 19, 20, 22, 32]\n",
        "print(binary_search(my_list, 0, len(my_list) -1, 20))"
      ],
      "metadata": {
        "id": "JD7uSe_n4HKF"
      },
      "execution_count": null,
      "outputs": []
    },
    {
      "cell_type": "markdown",
      "source": [
        "**We still need to talk about the time complexity of binary search**\n",
        "\n",
        "Think back to our tracing - how many times did we adjust our bounds?\n",
        "\n",
        "What is the the worst-case for this search?  \n",
        "- it is when the item is not in the list.\n",
        "\n",
        "What will happen when we add one extra item?  What about when we double the size of the list?\n",
        "\n",
        "How many times can we split our list in half before we're left with an empty list (or equal hi/lo bounds) to check?\n",
        "\n",
        "\n",
        "**Example:** say we have a list of length 8.  How many loops?\n",
        "1. Split 8 to 4\n",
        "2. Split 4 to 2\n",
        "3. Split 2 to 1\n",
        "Item not found\n",
        "**3 loops**\n",
        "\n",
        "**Example:** say we have a list of length 64.  How many loops?\n",
        "1. Split 64 to 32\n",
        "2. Split 32 to 16\n",
        "3. Split 16 to 8\n",
        "4. Split 8 to 4\n",
        "5. Split 4 to 2\n",
        "6. Split 2 to 1\n",
        "Item not found\n",
        "**6 loops**\n",
        "\n",
        "Note the pattern: 2^6 = 64, 2^3 = 8 - this gets a little more complicated for non-powers-of-two, but with work and details it can be worked out.\n",
        "\n",
        "The time complexity of binary search is **O(log n)** which means that binary search is very efficient - for a list of length 1048576 we would expect less than 20 iterations!  and then doubling that to a list of length 2097152, we only expect 21.\n"
      ],
      "metadata": {
        "id": "bsxDoPjw3Ve7"
      }
    },
    {
      "cell_type": "markdown",
      "source": [
        "So far, we have only talked about running time as the function of a length of a list, but it's mathematically fine to talk about it as a function of an input integer.  For example, say we have a functions that operate on numbers:"
      ],
      "metadata": {
        "id": "Mae9NkkCvIaa"
      }
    },
    {
      "cell_type": "code",
      "source": [
        "def my_function_1(n):\n",
        "  return n+1\n",
        "\n",
        "def my_function_2(n):\n",
        "  sum = 0\n",
        "  for i in range(n):\n",
        "     sum = sum + i\n",
        "  return sum\n",
        "\n"
      ],
      "metadata": {
        "id": "PpcAVL3svwNm"
      },
      "execution_count": 2,
      "outputs": []
    },
    {
      "cell_type": "markdown",
      "source": [
        "What about running time complexities that are larger than polynomial?  Can we have $O(2^n)$?  or $O(n!)$?\n",
        "\n",
        "We certainly can!  These usually look like try-all possibilities pieces of code.  For example, think of a piece of code that generates all possible orderings of $n$ numbers.  Or, a piece of code that generates all possible sequences of Heads or Tails that we might obtain while playing a game of chance.  We have seen one of these in a session on recursion.\n"
      ],
      "metadata": {
        "id": "kEaBc8yLuteq"
      }
    },
    {
      "cell_type": "code",
      "source": [],
      "metadata": {
        "id": "StNv3152u4XG"
      },
      "execution_count": null,
      "outputs": []
    }
  ],
  "metadata": {
    "kernelspec": {
      "display_name": "Python 3",
      "language": "python",
      "name": "python3"
    },
    "language_info": {
      "codemirror_mode": {
        "name": "ipython",
        "version": 3
      },
      "file_extension": ".py",
      "mimetype": "text/x-python",
      "name": "python",
      "nbconvert_exporter": "python",
      "pygments_lexer": "ipython3",
      "version": "3.7.6"
    },
    "colab": {
      "provenance": []
    }
  },
  "nbformat": 4,
  "nbformat_minor": 0
}