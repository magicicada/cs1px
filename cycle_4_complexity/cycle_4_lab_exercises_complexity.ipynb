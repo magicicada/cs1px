{
 "cells": [
  {
   "cell_type": "markdown",
   "metadata": {
    "id": "xO9O39ASK93U"
   },
   "source": [
    "# Cycle 5 Lab Exercises: Time complexity and big-O notation\n",
    "\n",
    "### Objectives:\n",
    "1. Write code that can generate a plot of the runtime of code.\n",
    "2. Practice finding the time complexity in big-O notation of code\n",
    "\n",
    "You may find yourself working lots on paper for this lab - that is expected!"
   ]
  },
  {
   "cell_type": "markdown",
   "metadata": {
    "id": "jrHy5EpAK6cD"
   },
   "source": [
    "### Task 0:\n",
    "Read over the function `plotRuntimes` that takes as a parameter a function `func`, and a list of lists that will be inputs for `func`.  \n",
    "\n",
    "Also read over the function `testRuntimes` that takes as a parameter a function `functionName` and a maximum size `maxSize` and runs that function on lists of up to maximum size `maxSize`, and then plots the running time.  You will use these functions to plor the runtime of both functions I have provided and your own new functions. "
   ]
  },
  {
   "cell_type": "code",
   "execution_count": null,
   "metadata": {
    "colab": {
     "base_uri": "https://localhost:8080/",
     "height": 290
    },
    "id": "o4T3bRa8K0Dj",
    "outputId": "52bfb0dc-d205-42f9-aa6a-2641f253127b"
   },
   "outputs": [
    {
     "data": {
      "image/png": "[encoded data removed]",
      "text/plain": [
       "<Figure size 432x288 with 1 Axes>"
      ]
     },
     "metadata": {
      "needs_background": "light"
     },
     "output_type": "display_data"
    }
   ],
   "source": [
    "import time\n",
    "import random \n",
    "import matplotlib.pyplot as plt\n",
    "\n",
    "def traversalFunction(myList):\n",
    "    for i in range(len(myList)):\n",
    "        myList[i] = myList[i] +3\n",
    "\n",
    "\n",
    "def doubleTraversalFunction(myList):\n",
    "    for i in range(len(myList)):\n",
    "      for j in range(len(myList)):\n",
    "        myList[i] = myList[i] +3\n",
    "\n",
    "\n",
    "def sillyFunction(myList):\n",
    "  return myList[0]\n",
    "\n",
    "def functionAhoy(myList):\n",
    "  items = []\n",
    "  for item in myList:\n",
    "    for i in range(len(myList)):\n",
    "      for j in range(i, myList):\n",
    "        items.append(str(item) + str(i*j) + 'ahoy')\n",
    "  return items\n",
    "\n",
    "def functionFoo(myList):\n",
    "  newList = []\n",
    "  for i in range(7):\n",
    "    for j in range(len(myList)):\n",
    "      newList.append(i*myList[j])\n",
    "\n",
    "\n",
    "def testRuntimes(functionName, maxSize):\n",
    "    maxN = int(maxSize)\n",
    "    increment = int(maxSize/100)\n",
    "    if increment <1:\n",
    "      increment = 1\n",
    "    \n",
    "    inputs = []\n",
    "    for i in range(0, maxN +1, increment):\n",
    "        res = random.sample(range(0, maxN), i) \n",
    "        inputs.append(res)\n",
    "    plotRuntimes(functionName, inputs)\n",
    "    \n",
    "\n",
    "def plotRuntimes(func, listOfInputs):\n",
    "    times = []\n",
    "    sizes = []\n",
    "    for inputItem in listOfInputs:\n",
    "        sizes.append(len(inputItem))\n",
    "        #  if you are on a Windows machine, you may want to use time.clock() here and below         \n",
    "        t = time.time()\n",
    "        func(inputItem)\n",
    "        elapsed_time = time.time() - t\n",
    "        times.append(elapsed_time)\n",
    "    plt.plot(sizes, times)\n",
    "    plt.xlabel('size of input')\n",
    "    plt.ylabel('runtime')\n",
    "    plt.show()\n",
    "\n",
    "# this call tests the runtime of the input function on some random\n",
    "# lists of numbers up to maxListSize\n",
    "maxListSize = 200\n",
    "testRuntimes(functionAhoy, maxListSize)"
   ]
  },
  {
   "cell_type": "markdown",
   "metadata": {
    "id": "_6n0c4DUL1tV"
   },
   "source": [
    "## Task 1 - Plotting runtimes\n",
    "\n",
    "- Write a function that loops over the elements of a list and finds their sum. Plot its runtime - what big-O complexity do you think this looks like?\n",
    "\n",
    "- Write a function that loops over the elements of a list and finds the maximum value. Plot its runtime - what big-O complexity do you think this looks like?\n",
    "\n",
    "- Write a function that uses a nested loop to check, for each element of a list, if it is the only occurrence of that item in the list. Plot its runtime - what big-O complexity do you think this looks like?\n",
    "\n",
    "Plot the runtime complexities of the provided functions `doubleTraversalFunction`, `traversalFunction`, `sillyFunction`, `functionAhoy` and `functionFoo`. What do you think their runtime complexity is?\n",
    "\n",
    "It can be hard to tell from the plots sometimes! We will now look at the code directly."
   ]
  },
  {
   "cell_type": "code",
   "execution_count": null,
   "metadata": {
    "id": "ZOA1ITu2KywE"
   },
   "outputs": [],
   "source": []
  },
  {
   "cell_type": "markdown",
   "metadata": {
    "id": "ZmNXNbdsMQD8"
   },
   "source": [
    "## Task 2 - reasoning about runtimes\n",
    "\n",
    "For each of the functions you plotted runtimes for, inspect the code and try to reason about the big-O runtime complexity of that code. \n",
    "- What is the big-O complexity of running traversalFunction and then sillyFunction? \n",
    "- What is the big-O complexity of running functionAhoy and then functionFoo? \n",
    "- What is the big-O complexity of `practiceFunction` below? \n"
   ]
  },
  {
   "cell_type": "code",
   "execution_count": null,
   "metadata": {
    "id": "0VLQR53PMtJ_"
   },
   "outputs": [],
   "source": [
    "def practiceFunction(myList): \n",
    "     for i in range(len(myList)): \n",
    "          traversalFunction(myList)"
   ]
  },
  {
   "cell_type": "markdown",
   "metadata": {
    "id": "b2Ij8P-C5Z2E"
   },
   "source": []
  },
  {
   "cell_type": "code",
   "execution_count": null,
   "metadata": {
    "id": "Jv0uWclG5afD"
   },
   "outputs": [],
   "source": []
  },
  {
   "cell_type": "markdown",
   "metadata": {
    "id": "BSEZLqV-LGyE"
   },
   "source": [
    "## Task 4 \n",
    "Try to write functions with the following time complexities:\n",
    "\n",
    "- O(n^4)\n",
    "- O(2^n)\n",
    "- O(log n) (other than bianry search! but you can use the same philosophy)\n",
    "\n",
    "Once you have written them, plot their runtimes with increasing input size to see if the plots agree with your expectations"
   ]
  }
 ],
 "metadata": {
  "colab": {
   "provenance": []
  },
  "kernelspec": {
   "display_name": "Python 3 (ipykernel)",
   "language": "python",
   "name": "python3"
  },
  "language_info": {
   "codemirror_mode": {
    "name": "ipython",
    "version": 3
   },
   "file_extension": ".py",
   "mimetype": "text/x-python",
   "name": "python",
   "nbconvert_exporter": "python",
   "pygments_lexer": "ipython3",
   "version": "3.9.13"
  }
 },
 "nbformat": 4,
 "nbformat_minor": 1
}
