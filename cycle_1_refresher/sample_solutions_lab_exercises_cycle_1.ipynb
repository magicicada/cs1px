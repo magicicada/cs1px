{
 "cells": [
  {
   "cell_type": "markdown",
   "id": "b4c08cc9",
   "metadata": {},
   "source": [
    "# Cycle 1 Exercises – Python data structures, performing calculations\n",
    "## Aims and objectives\n",
    "* Familiarise yourself with Jupyter notebooks if you haven’t used it in the last semester\n",
    "* Refresh Python fundamentals, such as lists, tuples, dictionaries\n",
    "\n",
    "\n",
    "## This week’s exercises\n",
    "These exercises involve refreshing Python data structures such as lists, and dictionaries.\n",
    "### Task 0 – Jupyter (for those who have not used it before)\n",
    "The Jupyter Notebook is an open-source web application that allows you to create and share documents that contain live code, equations, visualizations and narrative text. Uses include: data cleaning and transformation, numerical simulation, statistical modeling, data visualization, machine learning, and much more.\n",
    "\n",
    "\n",
    "We can use Jupyter notebooks on the lab machines or on the virtual GlasgowAnywhere machines.\n",
    "To use Jupyter, please follow [this guide](https://moodle.gla.ac.uk/pluginfile.php/2538141/mod_resource/content/1/JupyterGuide2016%20%281%29.pdf) (I know it is written refering to a lab machine, please just pretend it says 'your machine'). To run Jupyter on your own machine, I suggest you install via [Anaconda](https://www.anaconda.com/)\n",
    "It is possible to run notebooks entirely online using on non-university resources via (for example) [Google's colab](https://colab.research.google.com) or [Cocalc](https://cocalc.com/)\n"
   ]
  },
  {
   "cell_type": "markdown",
   "id": "10444864",
   "metadata": {},
   "source": [
    "### Task 1 – Review your notes from CS1CT or the online text\n",
    "Review what you've learned about lists, dictionaries, as well as traversing them with loops and using if/then control structures.  \n",
    "\n",
    "### Task 2 – List manipulations\n",
    "\n",
    "Write the following functions in Python. If you can, try to present multiple implementation for the same problem. \n",
    "1.\t`how_many_zeroes(a)`: Write a function that counts the number of entries in list a that are equal to the number 0\n",
    "2.\t`get_the_odd_numbers(a)`: Write a function that returns a list containing only the odd-number entries of a list."
   ]
  },
  {
   "cell_type": "code",
   "execution_count": 3,
   "id": "e805755a",
   "metadata": {},
   "outputs": [
    {
     "name": "stdout",
     "output_type": "stream",
     "text": [
      "4\n",
      "[7, 1, 11]\n"
     ]
    }
   ],
   "source": [
    "#one way to approch this is to loop over all of the values and just count the target\n",
    "def how_many_zeroes(l):\n",
    "    #remember that you need to initialise the counter OUTSIDE of the loop, so that it doesn't get reset each iteration\n",
    "    total = 0\n",
    "    for i in range(len(l)):\n",
    "        if l[i]==0:\n",
    "            total += 1\n",
    "    return total\n",
    "\n",
    "#let's test out the code\n",
    "test_list = [1, 0, 67, 96, 0, 0, 12, 6, 35, 0, -8, 245]\n",
    "\n",
    "print(how_many_zeroes(test_list))\n",
    "\n",
    "\n",
    "def get_the_odd_numbers(a):\n",
    "    newList = []\n",
    "    for element in a:\n",
    "        if element % 2 != 0:\n",
    "            newList.append(element)\n",
    "    return newList\n",
    "    \n",
    "print(get_the_odd_numbers([7, 1, 2, 4, 11, 6, 12]))"
   ]
  },
  {
   "cell_type": "markdown",
   "id": "cb6a0de1",
   "metadata": {},
   "source": [
    "### Task 3 – Tuple manipulations\n",
    "\n",
    "Write a function `pair_together(list1, list2)` that takes two lists of the same length, and returns a new list that contains 2-tuples where the ith item in the new list is a pair composed of a 2-tuple of (ith item in list1, ith item in list2).\n",
    "\n",
    "```\n",
    "pair_together([‘a’, ‘b’, ‘c’, ‘d’], [1, 2, 3, 4]) \n",
    "\n",
    "returns: [(a, 1), (b, 2), (c, 3), (d, 4)]  \n",
    "```"
   ]
  },
  {
   "cell_type": "code",
   "execution_count": 4,
   "id": "a9882b50",
   "metadata": {},
   "outputs": [
    {
     "name": "stdout",
     "output_type": "stream",
     "text": [
      "[('a', 1), ('b', 2), ('c', 3), ('d', 4)]\n"
     ]
    }
   ],
   "source": [
    "def pair_together(list1, list2):\n",
    "  newList = []\n",
    "  for i in range(len(list1)):\n",
    "    newList.append((list1[i], list2[i]))\n",
    "  return newList\n",
    "\n",
    "print(pair_together(['a', 'b', 'c', 'd'], [1, 2, 3, 4]) )"
   ]
  },
  {
   "cell_type": "markdown",
   "id": "c20ada26",
   "metadata": {},
   "source": [
    "### Task 4 – Dictionary manipulations\n",
    "\n",
    "Write a function `comparedicts(dict1, dict2`) that compares two dictionaries by both their keys and values and return a Boolean – loop through the dictionaries, do not simply directly compare the dictionaries with ==.\n",
    "\n",
    "```\n",
    "Input: {'a': 1, 'b': 2}, {'a': 1, 'b': 2}\n",
    "Output: True\t\n",
    "\n",
    "Input: {'a': 2, 'b': 2}, {'a': 1, 'b': 2}\n",
    "Output: False\n",
    "\n",
    "\n",
    "Input: {'a': 1, 'b': 3}, {'a': 1, 'b': 2}\n",
    "Output: False\n",
    "```\n",
    "\n"
   ]
  },
  {
   "cell_type": "code",
   "execution_count": 6,
   "id": "9f22c8a5",
   "metadata": {},
   "outputs": [
    {
     "name": "stdout",
     "output_type": "stream",
     "text": [
      "True\n",
      "False\n"
     ]
    }
   ],
   "source": [
    "def comparedicts(dict1, dict2):\n",
    "  for key in dict1:\n",
    "    if dict1[key] != dict2[key]:\n",
    "      return False\n",
    "  return True\n",
    "\n",
    "print(comparedicts({'a': 1, 'b': 2}, {'a': 1, 'b': 2}))\n",
    "print(comparedicts({'a': 3, 'b': 2}, {'a': 1, 'b': 2}))"
   ]
  },
  {
   "cell_type": "markdown",
   "id": "904d8da5",
   "metadata": {},
   "source": [
    "Write a function `differences(dict1, dict2)` that displays the differences between two dictionaries by returning a set of tuples.   You can assume that the dictionaries have the same set of keys.  (Extra exercise: think about how you would deal with it if they had different sets of keys?)\n",
    "\n",
    "```\n",
    "\n",
    "Input: {'a': 1, 'b': 3}, {'a': 1, 'b': 2}\n",
    "Output: [('b', 3), ('b', 2)]\n",
    "\n",
    "Input: {'a': 1, 'b': 3}, {'a': 1, 'b': 3}\n",
    "Output: an empty dictionary, or None\n",
    "```"
   ]
  },
  {
   "cell_type": "code",
   "execution_count": 7,
   "id": "1c60ac7d",
   "metadata": {},
   "outputs": [
    {
     "name": "stdout",
     "output_type": "stream",
     "text": [
      "[]\n",
      "[('a', 3), ('a', 1)]\n"
     ]
    }
   ],
   "source": [
    "def differences(dict1, dict2):\n",
    "  diffs = []\n",
    "  for key in dict1:\n",
    "    if dict1[key] != dict2[key]:\n",
    "      diffs.append((key,dict1[key]))\n",
    "      diffs.append((key,dict2[key]))\n",
    "  return diffs\n",
    "\n",
    "print(differences({'a': 1, 'b': 2}, {'a': 1, 'b': 2}))\n",
    "print(differences({'a': 3, 'b': 2}, {'a': 1, 'b': 2}))"
   ]
  },
  {
   "cell_type": "code",
   "execution_count": null,
   "id": "a5a1e14a",
   "metadata": {},
   "outputs": [],
   "source": []
  }
 ],
 "metadata": {
  "kernelspec": {
   "display_name": "Python 3",
   "language": "python",
   "name": "python3"
  },
  "language_info": {
   "codemirror_mode": {
    "name": "ipython",
    "version": 3
   },
   "file_extension": ".py",
   "mimetype": "text/x-python",
   "name": "python",
   "nbconvert_exporter": "python",
   "pygments_lexer": "ipython3",
   "version": "3.7.13"
  }
 },
 "nbformat": 4,
 "nbformat_minor": 5
}
