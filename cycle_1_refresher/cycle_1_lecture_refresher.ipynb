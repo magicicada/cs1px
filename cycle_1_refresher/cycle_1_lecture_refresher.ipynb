{
 "cells": [
  {
   "cell_type": "markdown",
   "metadata": {
    "id": "0O8XwUdv7LwC"
   },
   "source": [
    "# Welcome to our first programming lecture(s)!\n",
    "\n",
    "Today's plan: \n",
    "- have a look at lists, dictionaries, tuples in Python\n",
    "- remind ourselves about control structures\n",
    "- get back into programming!\n",
    "\n",
    "At the end, I would like you to:\n",
    "- feel more confident with lists, dictionaries, and tuples\n",
    "- be able to write code that loops over these structures\n",
    "- be able to write code that uses these structures in a function\n",
    "\n",
    "Let's dive right in!\n",
    "\n",
    "## Lists\n",
    "\n",
    "Lists are ordered collections of values.  \n",
    "We can make a list:\n"
   ]
  },
  {
   "cell_type": "code",
   "execution_count": 1,
   "metadata": {
    "id": "q3X24gcj7LwH"
   },
   "outputs": [],
   "source": [
    "myList = [1, 2, 'apple', 'banana']"
   ]
  },
  {
   "cell_type": "markdown",
   "metadata": {
    "id": "iamDe1mM7LwI"
   },
   "source": [
    "We can add things to lists:"
   ]
  },
  {
   "cell_type": "code",
   "execution_count": 2,
   "metadata": {
    "colab": {
     "base_uri": "https://localhost:8080/"
    },
    "id": "6-Cr8Do57LwI",
    "outputId": "db2f6b2a-d81d-4b5c-b8e9-642ba55f22ac"
   },
   "outputs": [
    {
     "name": "stdout",
     "output_type": "stream",
     "text": [
      "[1, 2, 'apple', 'banana', 99]\n"
     ]
    }
   ],
   "source": [
    "myList.append(99)\n",
    "print(myList)"
   ]
  },
  {
   "cell_type": "markdown",
   "metadata": {
    "id": "OOhwbt1E7LwJ"
   },
   "source": [
    "We can access items by index in the list"
   ]
  },
  {
   "cell_type": "code",
   "execution_count": 5,
   "metadata": {
    "colab": {
     "base_uri": "https://localhost:8080/"
    },
    "id": "2s5RUyZw7LwJ",
    "outputId": "12c61951-83e7-4587-8ddd-cac797d238b0"
   },
   "outputs": [
    {
     "name": "stdout",
     "output_type": "stream",
     "text": [
      "[1, 2, 'apple', 'banana']\n",
      "[1, 'Ahoy!', 'apple', 'banana']\n"
     ]
    }
   ],
   "source": [
    "\n",
    "myList = [1, 2, 'apple', 'banana']\n",
    "print(myList[2])\n",
    "print(myList)\n",
    "\n",
    "myList[1] = 'Ahoy!'\n",
    "print(myList)"
   ]
  },
  {
   "cell_type": "markdown",
   "metadata": {
    "id": "Go95prmy7LwK"
   },
   "source": [
    "We can check for membership in the list:"
   ]
  },
  {
   "cell_type": "code",
   "execution_count": 9,
   "metadata": {
    "colab": {
     "base_uri": "https://localhost:8080/"
    },
    "id": "E6_tg2Iz7LwK",
    "outputId": "026b0f73-f3cc-4de7-9f8a-121f17791a7b"
   },
   "outputs": [
    {
     "data": {
      "text/plain": [
       "True"
      ]
     },
     "execution_count": 9,
     "metadata": {},
     "output_type": "execute_result"
    }
   ],
   "source": [
    "myList.append(99)\n",
    "99 in myList"
   ]
  },
  {
   "cell_type": "markdown",
   "metadata": {
    "id": "e1MFSiOy7LwK"
   },
   "source": [
    "We can check to see if something is a list using the type function:"
   ]
  },
  {
   "cell_type": "code",
   "execution_count": 11,
   "metadata": {
    "colab": {
     "base_uri": "https://localhost:8080/"
    },
    "id": "SVA9Wy2f7LwL",
    "outputId": "d5bc5c40-887f-4d75-89a2-2f480998bdff"
   },
   "outputs": [
    {
     "name": "stdout",
     "output_type": "stream",
     "text": [
      "<class 'list'>\n",
      "Not even a list :(\n"
     ]
    }
   ],
   "source": [
    "mySecondList = [1, 2,3, 5]\n",
    "print(type(mySecondList))\n",
    "\n",
    "not_a_list = 9\n",
    "\n",
    "if type(mySecondList) == type([]):\n",
    "    print(\"How lovely, a list!\")\n",
    "else:\n",
    "    print (\"Not even a list :(\")"
   ]
  },
  {
   "cell_type": "markdown",
   "metadata": {
    "id": "LWH6eT3s7LwL"
   },
   "source": [
    "Often we want to look at all items in a list in order and do something with them.  We can use a loop!"
   ]
  },
  {
   "cell_type": "code",
   "execution_count": 16,
   "metadata": {
    "colab": {
     "base_uri": "https://localhost:8080/"
    },
    "id": "1zA974QN7LwL",
    "outputId": "59b4d3ba-eec5-4921-ff15-d04b26c07bc6"
   },
   "outputs": [
    {
     "name": "stdout",
     "output_type": "stream",
     "text": [
      "[1, 'Ahoy!', 'apple', 'banana', 99, 99, 99]\n",
      "The item at index 0 is 1\n",
      "The item at index 1 is Ahoy!\n",
      "The item at index 2 is apple\n",
      "The item at index 3 is banana\n",
      "The item at index 4 is 99\n",
      "The item at index 5 is 99\n",
      "The item at index 6 is 99\n"
     ]
    }
   ],
   "source": [
    "print(myList)\n",
    "\n",
    "for i in range(len(myList)):\n",
    "    print(\"The item at index \" + str(i) + \" is \" + str(myList[i]))\n"
   ]
  },
  {
   "cell_type": "code",
   "execution_count": null,
   "metadata": {
    "colab": {
     "base_uri": "https://localhost:8080/"
    },
    "id": "7AvnVxhK7LwL",
    "outputId": "dcf91817-01d8-47e0-9fa8-df6687c76d3c"
   },
   "outputs": [
    {
     "name": "stdout",
     "output_type": "stream",
     "text": [
      "1\n",
      "Ahoy!\n",
      "apple\n",
      "99\n"
     ]
    }
   ],
   "source": [
    "for item in myList:\n",
    "    print(item)"
   ]
  },
  {
   "cell_type": "markdown",
   "metadata": {
    "id": "kxsN75rE7LwL"
   },
   "source": [
    "Of course, we can combine this with 'if' control structures:\n",
    "    \n",
    "    Given a list of numbers, try to loop over the list, and for each item in the list print \"This is a big number\" if the number is over 100, and \"This is a small number\" otherwise."
   ]
  },
  {
   "cell_type": "code",
   "execution_count": 17,
   "metadata": {
    "id": "T9aUCdFV7LwM"
   },
   "outputs": [
    {
     "name": "stdout",
     "output_type": "stream",
     "text": [
      "This is a small number\n",
      "This is a small number\n",
      "This is a big number\n",
      "This is a small number\n",
      "This is a big number\n",
      "This is a small number\n",
      "This is a big number\n",
      "This is a small number\n"
     ]
    }
   ],
   "source": [
    "listNumbers = [1, 30, 123, 50, 3452, 45, 450, 100]\n",
    "\n",
    "for item in listNumbers:\n",
    "    if item > 100:\n",
    "        print(\"This is a big number\")\n",
    "    else:\n",
    "        print('This is a small number')\n",
    "    \n"
   ]
  },
  {
   "cell_type": "markdown",
   "metadata": {
    "id": "fCd6AaJ97LwM"
   },
   "source": [
    "Python has some built-in ways of *slicing* lists, for when we only want a segment of the list.\n",
    "\n",
    "For example: we can get the first five elements of the list like this:"
   ]
  },
  {
   "cell_type": "code",
   "execution_count": 19,
   "metadata": {
    "colab": {
     "base_uri": "https://localhost:8080/"
    },
    "id": "4auu5GEA7LwM",
    "outputId": "c1801e47-1adf-4401-97cb-5037520b5c4f"
   },
   "outputs": [
    {
     "data": {
      "text/plain": [
       "[1, 30, 123, 50, 3452, 45]"
      ]
     },
     "execution_count": 19,
     "metadata": {},
     "output_type": "execute_result"
    }
   ],
   "source": [
    "listNumbers = [1, 30, 123, 50, 3452, 45, 450, 100]\n",
    "listNumbers[:6]"
   ]
  },
  {
   "cell_type": "markdown",
   "metadata": {
    "id": "l7we6giQ7LwM"
   },
   "source": [
    "Or the last two like this:"
   ]
  },
  {
   "cell_type": "code",
   "execution_count": 22,
   "metadata": {
    "colab": {
     "base_uri": "https://localhost:8080/"
    },
    "id": "djVRt0V_7LwM",
    "outputId": "2e89d86a-0899-40bd-db4e-e1dc78651e57"
   },
   "outputs": [
    {
     "data": {
      "text/plain": [
       "[450, 100]"
      ]
     },
     "execution_count": 22,
     "metadata": {},
     "output_type": "execute_result"
    }
   ],
   "source": [
    "listNumbers[-2:]"
   ]
  },
  {
   "cell_type": "markdown",
   "metadata": {
    "id": "1fW0D9xv7LwM"
   },
   "source": [
    "Or all but the first two like this:"
   ]
  },
  {
   "cell_type": "code",
   "execution_count": null,
   "metadata": {
    "colab": {
     "base_uri": "https://localhost:8080/"
    },
    "id": "jMXAm_RM7LwN",
    "outputId": "e45a19a8-b7a9-42f5-fe78-81f1754cb2c3"
   },
   "outputs": [
    {
     "data": {
      "text/plain": [
       "[123, 50, 3452, 45, 450, 100]"
      ]
     },
     "execution_count": 22,
     "metadata": {
      "tags": []
     },
     "output_type": "execute_result"
    }
   ],
   "source": [
    "listNumbers[2:]"
   ]
  },
  {
   "cell_type": "markdown",
   "metadata": {
    "id": "CT_CR7Tr7LwN"
   },
   "source": [
    "Practice: Let's write a function that takes a list as a parameter, and prints out a list containing the first item only, then the first two, then the first three, etc."
   ]
  },
  {
   "cell_type": "code",
   "execution_count": 26,
   "metadata": {
    "colab": {
     "base_uri": "https://localhost:8080/",
     "height": 130
    },
    "id": "GtQrn9V77LwN",
    "outputId": "a9cd89ca-6391-4e00-ae51-868762f86d50"
   },
   "outputs": [
    {
     "name": "stdout",
     "output_type": "stream",
     "text": [
      "[]\n",
      "[1]\n",
      "[1, 30]\n",
      "[1, 30, 123]\n",
      "[1, 30, 123, 50]\n",
      "[1, 30, 123, 50, 3452]\n",
      "[1, 30, 123, 50, 3452, 45]\n",
      "[1, 30, 123, 50, 3452, 45, 450]\n"
     ]
    }
   ],
   "source": [
    "def tieredPrinting(listForPrinting):\n",
    "   for i in range(len(listForPrinting)):\n",
    "     print(listForPrinting[:i])\n",
    "   \n",
    "tieredPrinting(listNumbers)"
   ]
  },
  {
   "cell_type": "markdown",
   "metadata": {
    "id": "Xr29Vf5j7LwN"
   },
   "source": [
    "Not quite what I wanted!  How do I get it to not print the empty list?"
   ]
  },
  {
   "cell_type": "code",
   "execution_count": 27,
   "metadata": {
    "id": "PzY6v4FY7LwN"
   },
   "outputs": [
    {
     "name": "stdout",
     "output_type": "stream",
     "text": [
      "[1]\n",
      "[1, 30]\n",
      "[1, 30, 123]\n",
      "[1, 30, 123, 50]\n",
      "[1, 30, 123, 50, 3452]\n",
      "[1, 30, 123, 50, 3452, 45]\n",
      "[1, 30, 123, 50, 3452, 45, 450]\n"
     ]
    }
   ],
   "source": [
    "def improvedTieredPrinting(listForPrinting):\n",
    "    for i in range(1, len(listForPrinting)):\n",
    "        print(listForPrinting[:i])\n",
    "   \n",
    "improvedTieredPrinting(listNumbers)\n",
    "    #do some stuff"
   ]
  },
  {
   "cell_type": "markdown",
   "metadata": {
    "id": "b6vrzGQj7LwN"
   },
   "source": [
    "#Tuples\n",
    "\n",
    "Tuples are also ordered, but are *immutable*.  What does that mean?  It means that you cannot change elements in them. Otherwise, they work a lot like lists.  "
   ]
  },
  {
   "cell_type": "code",
   "execution_count": 28,
   "metadata": {
    "id": "5GbkMy457LwN",
    "outputId": "b47dd236-e46a-46f1-9e03-53e1986a4148"
   },
   "outputs": [
    {
     "name": "stdout",
     "output_type": "stream",
     "text": [
      "a\n",
      "3\n",
      "('a', 'b', 'c', 'z')\n"
     ]
    }
   ],
   "source": [
    "myTuple = ('a', 'b', 'c')\n",
    "print(myTuple[0])\n",
    "print(len(myTuple))\n",
    "\n",
    "myTuple = myTuple + ('z',)\n",
    "print(myTuple)"
   ]
  },
  {
   "cell_type": "markdown",
   "metadata": {
    "id": "AHmsZ4v97LwO"
   },
   "source": [
    "But on the other hand, if we try to change an element:"
   ]
  },
  {
   "cell_type": "code",
   "execution_count": 29,
   "metadata": {
    "id": "ub24EfpA7LwO",
    "outputId": "db0af902-945a-4fed-a95d-aaede4c2fe94"
   },
   "outputs": [
    {
     "ename": "TypeError",
     "evalue": "'tuple' object does not support item assignment",
     "output_type": "error",
     "traceback": [
      "\u001b[0;31m---------------------------------------------------------------------------\u001b[0m",
      "\u001b[0;31mTypeError\u001b[0m                                 Traceback (most recent call last)",
      "\u001b[0;32m<ipython-input-29-c45c65c35cb2>\u001b[0m in \u001b[0;36m<module>\u001b[0;34m\u001b[0m\n\u001b[0;32m----> 1\u001b[0;31m \u001b[0mmyTuple\u001b[0m\u001b[0;34m[\u001b[0m\u001b[0;36m1\u001b[0m\u001b[0;34m]\u001b[0m \u001b[0;34m=\u001b[0m \u001b[0;34m'q'\u001b[0m\u001b[0;34m\u001b[0m\u001b[0;34m\u001b[0m\u001b[0m\n\u001b[0m",
      "\u001b[0;31mTypeError\u001b[0m: 'tuple' object does not support item assignment"
     ]
    }
   ],
   "source": [
    "myTuple[1] = 'q'"
   ]
  },
  {
   "cell_type": "markdown",
   "metadata": {
    "id": "iVJYwLr27LwO"
   },
   "source": [
    "I often use tuples as a mechanism to return multiple values, or as a data structure for things that really ought to be grouped together. This is sometimes called 'packing' and 'unpacking'.  For example, say I have a tuple with information about my friend's cat that includes his name, age, and colour, and that's how I like to store information about cats.  I can store it as a tuple and directly 'unpack' it back out to variables with an assignment:"
   ]
  },
  {
   "cell_type": "code",
   "execution_count": 30,
   "metadata": {
    "id": "Sysa2ezs7LwO",
    "outputId": "13d7f8ae-1653-4e93-c3b7-c90aa633ff08"
   },
   "outputs": [
    {
     "name": "stdout",
     "output_type": "stream",
     "text": [
      "('The Chairman', 14, 'orange')\n",
      "The Chairman\n",
      "The Chairman\n",
      "14\n",
      "orange\n"
     ]
    }
   ],
   "source": [
    "chairmanInfo = (\"The Chairman\", 14, 'orange')\n",
    "print(chairmanInfo)\n",
    "\n",
    "name, age, colour = chairmanInfo\n",
    "\n",
    "print(name)\n",
    "print(age)\n",
    "print(colour)\n"
   ]
  },
  {
   "cell_type": "markdown",
   "metadata": {
    "id": "CjYVf1Ty7LwO"
   },
   "source": [
    "This is especially useful when I want to return that information from a function:"
   ]
  },
  {
   "cell_type": "code",
   "execution_count": null,
   "metadata": {
    "id": "5b6UBnh87LwP",
    "outputId": "6b119e17-846b-4915-e952-451f2ab56a1e"
   },
   "outputs": [
    {
     "name": "stdout",
     "output_type": "stream",
     "text": [
      "The Chairman\n",
      "14\n",
      "orange\n"
     ]
    }
   ],
   "source": [
    "def returnsChairmanInfo():\n",
    "    chairmanInfo = (\"The Chairman\", 14, 'orange')\n",
    "    return chairmanInfo\n",
    "\n",
    "name, age, colour = returnsChairmanInfo()\n",
    "\n",
    "print(name)\n",
    "print(age)\n",
    "print(colour)"
   ]
  },
  {
   "cell_type": "markdown",
   "metadata": {
    "id": "xz3nitzo7LwP"
   },
   "source": [
    "# Dictionaries\n",
    "\n",
    "Dictionaries are mappings: they store a key and an associated value, and you typically access them by key.  They are not ordered, and the keys do not have 'positions' in the dictionary (unlike the book version of the dictionary).\n",
    "\n",
    "Example: Say we have a record of student numbers and names, and we want to be able to get the name given the number:"
   ]
  },
  {
   "cell_type": "code",
   "execution_count": 31,
   "metadata": {
    "id": "OBx2Lj7M7LwP",
    "outputId": "e88b936c-988d-4775-9966-b71fc288697a"
   },
   "outputs": [
    {
     "name": "stdout",
     "output_type": "stream",
     "text": [
      "Pumat Sol\n",
      "{123433: 'Pumat Sol', 223453: 'Brian McMillan', 339593: 'The Chairman', 532902: 'Teemu Selanne', 124111: 'Angus McDonald', 999494: 'Frances Su', 902223: 'Merle Highchurch'}\n",
      "{123433: 'Pumat Sol', 223453: 'Brian McMillan', 339593: 'The Chairman', 532902: 'Teemu Selanne', 124111: 'Angus MacDonald', 999494: 'Frances Su', 902223: 'Merle Highchurch'}\n"
     ]
    }
   ],
   "source": [
    "studentNumsToNames = {}\n",
    "studentNumsToNames [123433] = 'Pumat Sol'\n",
    "studentNumsToNames [223453] = 'Brian McMillan'\n",
    "studentNumsToNames [339593] = 'The Chairman'\n",
    "studentNumsToNames [532902] = 'Teemu Selanne'\n",
    "studentNumsToNames [124111] = 'Angus McDonald'\n",
    "studentNumsToNames [999494] = 'Frances Su'\n",
    "studentNumsToNames [902223] = 'Merle Highchurch'\n",
    "\n",
    "\n",
    "print(studentNumsToNames [123433])\n",
    "\n",
    "print(studentNumsToNames)\n",
    "\n",
    "studentNumsToNames [124111] = 'Angus MacDonald'\n",
    "print(studentNumsToNames)\n"
   ]
  },
  {
   "cell_type": "markdown",
   "metadata": {
    "id": "lEPvdktI7LwP"
   },
   "source": [
    "Maybe we want to store a bunch of different information about our students: name, age, program.  We could store each of these in a separate dictionary, but we could also store it in a *nested* dictionary, in which the student number maps to a dictionary for that student."
   ]
  },
  {
   "cell_type": "code",
   "execution_count": 33,
   "metadata": {
    "id": "4Aafs_217LwP",
    "outputId": "befbeac2-7df3-4705-fd7b-88d937e8dbfd",
    "scrolled": true
   },
   "outputs": [
    {
     "name": "stdout",
     "output_type": "stream",
     "text": [
      "{'name': 'Pumat Sol', 'age': 256, 'program': 'business'}\n",
      "Pumat Sol\n",
      "business\n"
     ]
    }
   ],
   "source": [
    "studentNumsToNames = {}\n",
    "\n",
    "pumatsEntry = {}\n",
    "pumatsEntry['name'] = 'Pumat Sol'\n",
    "pumatsEntry['age'] = 256\n",
    "pumatsEntry['program'] = 'business'\n",
    "studentNumsToNames [123433] = pumatsEntry\n",
    "\n",
    "studentNumsToNames [223453] = {'name':'Brian McMillan', 'age':52, 'program':'computing science'}\n",
    "studentNumsToNames [339593] = {'name':'The Chairman', 'age':14, 'program':'philosophy'}\n",
    "studentNumsToNames [532902] = {'name':'Teemu Selanne', 'age':49, 'program':'sport science'}\n",
    "studentNumsToNames [124111] = {'name':'Angus McDonald', 'age':17, 'program':'arcane science'}\n",
    "studentNumsToNames [999494] = {'name':'Frances Su', 'age':46, 'program':'mathematics'}\n",
    "studentNumsToNames [902223] = {'name':'Merle Highchurch', 'age':210, 'program':'theology'}\n",
    "\n",
    "print(studentNumsToNames)\n",
    "\n",
    "print(studentNumsToNames[123433])\n",
    "print(studentNumsToNames[123433]['name'])\n",
    "print(studentNumsToNames[123433]['program'])\n",
    "\n"
   ]
  },
  {
   "cell_type": "markdown",
   "metadata": {
    "id": "nOUhX1737LwQ"
   },
   "source": [
    "Say we want to loop over all our entries in our student dictionary and print out the names:"
   ]
  },
  {
   "cell_type": "code",
   "execution_count": 39,
   "metadata": {
    "colab": {
     "base_uri": "https://localhost:8080/",
     "height": 181
    },
    "id": "9Bvv3UB87LwQ",
    "outputId": "6494f8b1-58e9-4611-e08d-55ed13cc8f0f"
   },
   "outputs": [
    {
     "name": "stdout",
     "output_type": "stream",
     "text": [
      "Pumat Sol\n",
      "Brian McMillan\n",
      "The Chairman\n",
      "Teemu Selanne\n",
      "Angus McDonald\n",
      "Frances Su\n",
      "Merle Highchurch\n"
     ]
    }
   ],
   "source": [
    "for student_number in studentNumsToNames:\n",
    "    this_record = studentNumsToNames[student_number]\n",
    "    print(this_record['name'])\n",
    "    \n",
    "#     print(studentNumsToNames[student_number]['name'])"
   ]
  },
  {
   "cell_type": "code",
   "execution_count": null,
   "metadata": {},
   "outputs": [],
   "source": []
  }
 ],
 "metadata": {
  "colab": {
   "collapsed_sections": [],
   "name": "Copy of cycle_1_lecture_refresher.ipynb",
   "provenance": []
  },
  "kernelspec": {
   "display_name": "Python 3",
   "language": "python",
   "name": "python3"
  },
  "language_info": {
   "codemirror_mode": {
    "name": "ipython",
    "version": 3
   },
   "file_extension": ".py",
   "mimetype": "text/x-python",
   "name": "python",
   "nbconvert_exporter": "python",
   "pygments_lexer": "ipython3",
   "version": "3.7.6"
  }
 },
 "nbformat": 4,
 "nbformat_minor": 1
}
