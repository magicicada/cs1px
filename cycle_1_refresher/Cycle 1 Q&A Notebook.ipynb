{
 "cells": [
  {
   "cell_type": "markdown",
   "id": "84585a92",
   "metadata": {},
   "source": [
    "Question: Can you go over traversing dictionaries again?\n",
    "\n",
    "how do you access values from a dictionary?\n",
    "\n"
   ]
  },
  {
   "cell_type": "code",
   "execution_count": 7,
   "id": "2e53f180",
   "metadata": {},
   "outputs": [
    {
     "name": "stdout",
     "output_type": "stream",
     "text": [
      "border terrier\n"
     ]
    }
   ],
   "source": [
    "my_dog_rating = {'greyhound': 10, 'dalmatian': 9, \n",
    "           'border terrier':10, 'whippet': 8}\n",
    "\n",
    "# get the rating for a particular dog\n",
    "def get_rating(breed_string, dict_ratings):\n",
    "    rating = dict_ratings[breed_string]\n",
    "    return rating\n",
    "\n",
    "# print(get_rating('dalmatian', my_dog_rating))\n",
    "\n",
    "def get_best_dog(dict_ratings):\n",
    "    max_so_far = 0\n",
    "    best_so_far = 'no dog'\n",
    "    for current_dog in dict_ratings:\n",
    "        if dict_ratings[current_dog] >= max_so_far:\n",
    "            best_so_far = current_dog\n",
    "            max_so_far = dict_ratings[current_dog]\n",
    "    return best_so_far\n",
    "\n",
    "print(get_best_dog(my_dog_rating))\n",
    "\n"
   ]
  },
  {
   "cell_type": "markdown",
   "id": "b95d7813",
   "metadata": {},
   "source": [
    "how to iterate through a dict when some of the entries are dictionaries like \n",
    "\n",
    "`a = {'apple': 6, 'banana': 2, 'hello': 5, 'world': 4, {'orange': 10, {'cat': 6}}}`"
   ]
  },
  {
   "cell_type": "code",
   "execution_count": null,
   "id": "09b09219",
   "metadata": {},
   "outputs": [],
   "source": [
    "# Say we want to print the values associated with \n",
    "# non-dictionary keys recursively\n",
    "# 6, 2, 5, 4, 10, 6\n",
    "\n",
    "def recursive_dict_display(my_dict):\n",
    "    for key in my_dict:\n",
    "        if type(key) == type({}):\n",
    "            do something special - recursive case\n",
    "        else:\n",
    "            print(my_dict[key])"
   ]
  },
  {
   "cell_type": "markdown",
   "id": "4773e265",
   "metadata": {},
   "source": [
    "Is there a way for us to see the solutions to the lab questions after we've done them?\n",
    "\n",
    "- On Wednesday I'll upload sample solutions"
   ]
  },
  {
   "cell_type": "markdown",
   "id": "d650eb7e",
   "metadata": {},
   "source": [
    "Just to make sure, if we have to watch the new recordings before Wednesday's zoom session?\n",
    "\n",
    "- No! The new recordings are for the 'next' cycle.  Today's Q&A is cycle 1, the videos that I put up on Monday are cycle 2.\n",
    "\n",
    "When do we have to watch the cycle 2 videos by? Is it for next week's lab?\n",
    "- Yes, that's correct"
   ]
  },
  {
   "cell_type": "markdown",
   "id": "32497155",
   "metadata": {},
   "source": [
    "are we expected to use functions that we find from outside research?\n",
    "\n",
    "- Sometimes.  Usually not in labs.  But in assessed assignment I'll as you to look up a few things yourself. "
   ]
  },
  {
   "cell_type": "markdown",
   "id": "1d31b4e2",
   "metadata": {},
   "source": [
    "could you go over lab 1 q4 part 2?\n",
    "\n",
    "`differences(dict1, dict2)`: Write a function that displays the differences between two dictionaries by returning a list of tuples.   You can assume that the dictionaries have the same set of keys.  (Extra exercise: think about how you would deal with it if they had different sets of keys?)\n",
    "\n",
    "```\n",
    "Input: {'a': 1, 'b': 3}, {'a': 1, 'b': 2}\n",
    "Output: [('b', 3), ('b', 2)]\n",
    "\n",
    "Input: {'a': 1, 'b': 3}, {'a': 1, 'b': 3}\n",
    "Output: an empty dictionary, or None\n",
    "```\n",
    "\n"
   ]
  },
  {
   "cell_type": "code",
   "execution_count": 18,
   "id": "99a8c491",
   "metadata": {},
   "outputs": [
    {
     "name": "stdout",
     "output_type": "stream",
     "text": [
      "[('b', 3), ('b', 2)]\n",
      "[]\n"
     ]
    }
   ],
   "source": [
    "def difference(dict1, dict2):\n",
    "    list_difference = []\n",
    "    for key in dict1:\n",
    "#         if key not in dict2:\n",
    "# #             do something\n",
    "        if dict1[key] != dict2[key]:\n",
    "            list_difference.append((key, dict1[key]))\n",
    "            list_difference.append((key, dict2[key]))\n",
    "    \n",
    "    return list_difference\n",
    "\n",
    "d1 = {'a': 1, 'b': 3}\n",
    "d2 = {'a': 1, 'b': 2}\n",
    "d3 = {'a': 1}\n",
    "print(difference(d1, d2))\n",
    "print(difference(d1, d1))\n",
    "# print(difference(d1, d3))\n",
    "\n",
    "\n"
   ]
  },
  {
   "cell_type": "markdown",
   "id": "bd0c0ad5",
   "metadata": {},
   "source": [
    "Can you briefly explain 'type' please?"
   ]
  },
  {
   "cell_type": "code",
   "execution_count": 16,
   "id": "28560cfd",
   "metadata": {},
   "outputs": [
    {
     "name": "stdout",
     "output_type": "stream",
     "text": [
      "<class 'int'>\n",
      "<class 'str'>\n",
      "<class 'dict'>\n"
     ]
    }
   ],
   "source": [
    "bob = 1\n",
    "print(type(bob))\n",
    "bob = 'ahoy'\n",
    "print(type(bob))\n",
    "bob = {29:'not a good number'}\n",
    "print(type(bob))\n",
    "\n",
    "def compare_things(thing1, thing2):\n",
    "    if type(thing1) == type(thing2):\n",
    "#         do some comparison\n",
    "    else:\n",
    "        return False"
   ]
  },
  {
   "cell_type": "markdown",
   "id": "58a5985c",
   "metadata": {},
   "source": [
    "How many hours (on avg) would you say each week's lab sheet should take?\n",
    "\n",
    "- this will vary\n",
    "- to give a general idea, learning hours for this course 100\n",
    "- more than 1, less than 5"
   ]
  },
  {
   "cell_type": "markdown",
   "id": "4d442a4a",
   "metadata": {},
   "source": [
    "a = {'apple': 6, 'banana': 2, 'hello': 5, 'world': 4, {'orange': 10, {'cat': 6}}} for this line what would the key for {'orange': 10, {'cat': 6}} be?"
   ]
  },
  {
   "cell_type": "markdown",
   "id": "e4b15b55",
   "metadata": {},
   "source": [
    "Yeah, sorry, something is broken there.  I'll fix this!!"
   ]
  },
  {
   "cell_type": "markdown",
   "id": "bac846b6",
   "metadata": {},
   "source": [
    "It's still difficult for me to write code. Could you give me any pointers on how to put it into practice? I'm never sure where to begin or what steps to take."
   ]
  },
  {
   "cell_type": "code",
   "execution_count": null,
   "id": "cf83fd95",
   "metadata": {},
   "outputs": [],
   "source": [
    "- the best way to learn to write code is to write code\n",
    "- the way that I do it is to think algorithm-first, \n",
    "so I think about how *I* would do it\n",
    "\n",
    "# for each key in the dict\n",
    "for key in dict1\n",
    "# look at that key in first, compare to second one\n",
    "# if they are different, then do whatever\n",
    "\n"
   ]
  },
  {
   "cell_type": "markdown",
   "id": "3812fa2f",
   "metadata": {},
   "source": []
  },
  {
   "cell_type": "markdown",
   "id": "8edce674",
   "metadata": {},
   "source": [
    "how do I compare the difference between keywords of the dictionary\n",
    "\n",
    "depends exactly what you want to compare. If you wanted to check to see if all the keys in one were in the other, you might do something like:\n"
   ]
  },
  {
   "cell_type": "code",
   "execution_count": null,
   "id": "7e2e870f",
   "metadata": {},
   "outputs": [],
   "source": [
    "for key in dict1:\n",
    "    if key not in dict2:\n",
    "        print('Key ' + str(key) + ' is not in the second dictionary')"
   ]
  },
  {
   "cell_type": "markdown",
   "id": "0cb07a61",
   "metadata": {},
   "source": [
    "If we have some spare time apart from the course and would like to do smth python related, what would you suggest?\n",
    "\n",
    "There are so many things!  Here are a few:\n",
    "- learn how to use pandas and play with some data\n",
    "- try out some problems at project euler: https://projecteuler.net/\n",
    "- join up with a student society that might put you in touch with people to work with (e.g. GU game dev, GUTS, etc.) I know GUTS runs hackathons every so often, and beginners are welcome.  "
   ]
  },
  {
   "cell_type": "markdown",
   "id": "6d44181f",
   "metadata": {},
   "source": [
    "Why \"magicicada\"?\n",
    "\n",
    "- It's a username I've had forever, and as embarrassing names from high school go it's not that bad!  Magicicada are the periodic cicadas (https://en.wikipedia.org/wiki/Periodical_cicadas), these are bugs that have a life stage underground and then emerge in enormous hordes every so often.  In my opinion, the really cool thing about these insects is that the broods emerge at prime-numbered intervals (every 7 years, 13 years, etc.) and there's a theory that this is so they rarely emerge in the same year.  There's also very very loud.  I'm a big fan of maths (and was in high school - nerd!), so there was a time when 'small, loud, and likes prime numbers' was a good description for me.  "
   ]
  },
  {
   "cell_type": "code",
   "execution_count": null,
   "id": "32800a9b",
   "metadata": {},
   "outputs": [],
   "source": []
  }
 ],
 "metadata": {
  "kernelspec": {
   "display_name": "Python 3",
   "language": "python",
   "name": "python3"
  },
  "language_info": {
   "codemirror_mode": {
    "name": "ipython",
    "version": 3
   },
   "file_extension": ".py",
   "mimetype": "text/x-python",
   "name": "python",
   "nbconvert_exporter": "python",
   "pygments_lexer": "ipython3",
   "version": "3.7.6"
  }
 },
 "nbformat": 4,
 "nbformat_minor": 5
}
