{
  "cells": [
    {
      "cell_type": "markdown",
      "source": [
        "# Searching and Recursion\n",
        "This week we're addressing two topics together: **searching** and **recursion**.  We will eventually look at a classic recursive searching algorithm called *binary search*.\n",
        "\n",
        "Next week we'll learn about the language of *computational complexity* and this will help us talk about the speed of our different searhcing algorithms.  "
      ],
      "metadata": {
        "id": "cpSBwT8fC3NT"
      }
    },
    {
      "cell_type": "markdown",
      "metadata": {
        "id": "qQcr5kExBITg"
      },
      "source": [
        "**Recursion**\n",
        "\n",
        "A **recursive** function is one that calls itself.  \n",
        "\n",
        "A classic example:  the Fibonacci sequence.\n",
        "\n",
        "The Fibonacci sequence was originally described to model population growth, and is self-referential in its definition.\n",
        "\n",
        "The nth Fib number is defined in terms of the previous two:\n",
        "- F(n) = F(n-1) + F(n-2)\n",
        "- F(1) = 0\n",
        "- F(2) = 1\n",
        "\n",
        "Another classic example: \n",
        "Factorial: \n",
        "- n! = n(n-1)(n-2)(n-3) ... 1\n",
        "or: \n",
        "- n! = n*(n-1)!\n",
        "\n",
        "Let's look at an implementation of the factorial and of the Fibonacci sequence in Python:\n"
      ]
    },
    {
      "cell_type": "code",
      "execution_count": null,
      "metadata": {
        "id": "mXhxn9etBITl",
        "outputId": "d7063531-fc44-4b58-8ae4-15c406d41f99"
      },
      "outputs": [
        {
          "name": "stdout",
          "output_type": "stream",
          "text": [
            "120\n"
          ]
        },
        {
          "data": {
            "text/plain": [
              "8"
            ]
          },
          "execution_count": 4,
          "metadata": {},
          "output_type": "execute_result"
        }
      ],
      "source": [
        "def factorial(n):\n",
        "    if n == 1:\n",
        "        return 1\n",
        "    else:\n",
        "        return n*factorial(n-1)\n",
        "    \n",
        "print(factorial(5))\n",
        "\n",
        "\n",
        "\n",
        "\n",
        "def fibonacci(n):\n",
        "     if n == 1:\n",
        "        return 0\n",
        "     elif n == 2:\n",
        "        return 1\n",
        "     else:\n",
        "#         print('working on number ' + str(n))\n",
        "        return fibonacci(n-1)+fibonacci(n-2)\n",
        "    \n",
        "fibonacci(7)"
      ]
    },
    {
      "cell_type": "markdown",
      "metadata": {
        "id": "R5aFiGGBBITn"
      },
      "source": [
        "There are two very important parts of these functions: a base case (or two) and a recursive case. When designing recursive functions it can help to think about these two cases!\n",
        "\n",
        "The base case is the case when we know we are done, and can just return a value.  (e.g. in fibonacci above there are two base cases, `n ==1` and `n ==2`).\n",
        "\n",
        "The recursive case is the case when we make the recursive call - that is we call the function again.  "
      ]
    },
    {
      "cell_type": "markdown",
      "metadata": {
        "id": "It2r0rRLBITn"
      },
      "source": [
        "Let's write a function that counts down from a parameter n to zero, and then prints \"Blastoff!\"."
      ]
    },
    {
      "cell_type": "code",
      "execution_count": null,
      "metadata": {
        "colab": {
          "base_uri": "https://localhost:8080/",
          "height": 130
        },
        "id": "pGKyDYhQBITo",
        "outputId": "31104c9f-a497-4a80-84c2-6e2054558cf9"
      },
      "outputs": [
        {
          "name": "stdout",
          "output_type": "stream",
          "text": [
            "10\n",
            "9\n",
            "8\n",
            "7\n",
            "6\n",
            "5\n",
            "4\n",
            "3\n",
            "2\n",
            "1\n",
            "Blastoff!\n"
          ]
        }
      ],
      "source": [
        "def countdown(n):\n",
        "#     base case\n",
        "  if n == 0:\n",
        "    print('Blastoff!')\n",
        "    # recursive case\n",
        "  else:\n",
        "    print(n)\n",
        "    countdown(n-1)\n",
        "\n",
        "countdown(10)"
      ]
    },
    {
      "cell_type": "markdown",
      "metadata": {
        "id": "RT1QyQHcBITo"
      },
      "source": [
        "Let's write a recursive function that adds up the elements of a list:"
      ]
    },
    {
      "cell_type": "code",
      "execution_count": null,
      "metadata": {
        "id": "pDb5RM7dBITo",
        "outputId": "8a1fa141-fc31-4952-b56e-2697929191eb"
      },
      "outputs": [
        {
          "name": "stdout",
          "output_type": "stream",
          "text": [
            "11\n"
          ]
        }
      ],
      "source": [
        "def add_up_list(my_list):\n",
        "#     base case\n",
        "   if len(my_list) == 0:\n",
        "        return 0\n",
        "# recursive case\n",
        "   else:\n",
        "        first_elem = my_list[0]\n",
        "        return first_elem + add_up_list(my_list[1:])\n",
        "\n",
        "my_list = [1, 2, 1, 3, 4]\n",
        "print(add_up_list(my_list))\n"
      ]
    },
    {
      "cell_type": "markdown",
      "source": [
        "## Searching\n",
        "\n",
        "Searching is one of the classic computing problems.  We'll talk mainly about searching in lists in Python.  \n",
        "\n",
        "Essentially, the problem is this:\n",
        "- Input: a list and a value\n",
        "- Output: the position of the value in the list if it is there (or some indicator value if it isn't)\n",
        "\n",
        "---\n",
        "Examples:\n",
        "\n",
        "Value is present:\n",
        "\n",
        "- Input: `[1, 2, 4, 5, 6]` and value  `5`\n",
        "- Output: `3`\n",
        "\n",
        "\n",
        "And one with the value not present:\n",
        "\n",
        "- Input: `[1, 2, 4, 5, 6]` and value  `3`\n",
        "- Output: `None` (or sometimes people use `-1`)\n",
        "\n",
        "---\n",
        "\n",
        "Let's write a basic iterative simple search:"
      ],
      "metadata": {
        "id": "kVcCwFTHE5Ik"
      }
    },
    {
      "cell_type": "code",
      "source": [
        "def simpleSearch(myList, item):\n",
        "    for i in range(len(myList)):\n",
        "        if myList[i] == item:\n",
        "            return i\n",
        "    return -1\n",
        "\n",
        "my_list = [1, 2, 3, 42, 1, 0, -6, 10]\n",
        "print(simpleSearch(my_list, -6))"
      ],
      "metadata": {
        "colab": {
          "base_uri": "https://localhost:8080/"
        },
        "id": "hLZHAC97E7Zr",
        "outputId": "77a186e1-ad98-4fa2-a307-738a824d047f"
      },
      "execution_count": 2,
      "outputs": [
        {
          "output_type": "stream",
          "name": "stdout",
          "text": [
            "6\n"
          ]
        }
      ]
    },
    {
      "cell_type": "markdown",
      "source": [
        "Here we look at every item in a list.  We can do better if the list is sorted!\n",
        "\n",
        "How would you search a sorted list?  What about the number guessing game?  I'm tihnking of a number between 1 and 100.  I'll tell you lower or higher at each guess.  What's your strategy?\n",
        "\n",
        "This idea leads us to binary search."
      ],
      "metadata": {
        "id": "pzGF2JO9JFc2"
      }
    },
    {
      "cell_type": "code",
      "source": [
        "# Let's look at a recursive implementation of binary search:\n",
        "\n",
        "def binary_search(my_list, lo, hi, value):\n",
        "#  base case not found\n",
        "    if len(my_list) < 1 or lo > hi:\n",
        "        return -1\n",
        "\n",
        "    mid = lo + hi //2\n",
        "    mid_value = my_list[mid]\n",
        "    \n",
        "#  base case value found\n",
        "    if mid_value == value:\n",
        "        return mid\n",
        "#   proper recursive cases\n",
        "    elif mid_value < value:\n",
        "        new_lo = mid+1\n",
        "        return binary_search(my_list, new_lo, hi, value)\n",
        "    else: \n",
        "        new_hi = mid -1\n",
        "        return binary_search(my_list, lo, new_hi, value)"
      ],
      "metadata": {
        "id": "GfOzA9fiJMHd"
      },
      "execution_count": 2,
      "outputs": []
    }
  ],
  "metadata": {
    "colab": {
      "provenance": []
    },
    "kernelspec": {
      "display_name": "Python 3",
      "language": "python",
      "name": "python3"
    },
    "language_info": {
      "codemirror_mode": {
        "name": "ipython",
        "version": 3
      },
      "file_extension": ".py",
      "mimetype": "text/x-python",
      "name": "python",
      "nbconvert_exporter": "python",
      "pygments_lexer": "ipython3",
      "version": "3.7.6"
    }
  },
  "nbformat": 4,
  "nbformat_minor": 0
}