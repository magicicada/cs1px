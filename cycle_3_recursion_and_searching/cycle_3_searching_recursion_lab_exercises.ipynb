{
  "nbformat": 4,
  "nbformat_minor": 0,
  "metadata": {
    "colab": {
      "provenance": []
    },
    "kernelspec": {
      "name": "python3",
      "display_name": "Python 3"
    },
    "language_info": {
      "name": "python"
    }
  },
  "cells": [
    {
      "cell_type": "markdown",
      "source": [
        "# Cycle 3 CS1PX Lab - Searching and Recursion\n",
        "\n",
        "\n",
        "This week you will:\n",
        "- practice writing recursive functions\n",
        "- work with the search algorithms we discussed in lecture\n",
        "\n",
        "work with the algorithms the searching algorithms we discussed in lecture.  I want you to write some new code, as well as to try to produce code that we worked on in class.  I will also ask you to try to identify bugs in a binary search implementation.  It may help to trace the operation of the code by hand, to see where it goes wrong.  "
      ],
      "metadata": {
        "id": "Pwr8r8lcNEDh"
      }
    },
    {
      "cell_type": "markdown",
      "source": [
        "### Task 1 - Recursive functions\n",
        "\n",
        "In all three subtasks, think about your base case and recursive case, then write your code (on paper first if that helps you), and be sure you can trace your code and draw stack traces.  \n",
        "\n",
        "1.\tWrite a function `recursive_exponent(base, exp)` that takes in integers `base` and an `exp` as parameters and recursively computes `base` to the exponent `exp`. You are not allowed to use the `**` operator! \n",
        "\n",
        "2.\tWrite a function `recursive_countdown(n)` using recursion to print numbers from `n` to `0`.  (Where n will be a positive integer parameter) \n",
        "\n",
        "3.\tWe can determine how many digits a positive integer has by repeatedly dividing by 10 (without keeping the remainder) until the number is less than 10, consisting of only 1 digit.\n",
        "Write down a recursive algorithm to implement this approach, and implement it in Python. \n",
        " (Hint:  If `n` is an integer, `n//10` will be an integer without the fractional part in Python.)  "
      ],
      "metadata": {
        "id": "PKyzwbXLNGt5"
      }
    },
    {
      "cell_type": "code",
      "source": [
        "def recursive_exponent(base, exp):\n",
        "  # write your code here and replace the return statement below\n",
        "  return 0\n",
        "\n",
        "\n",
        "def recursive_countdown(n):\n",
        "  # write your code here and replace the return statement below\n",
        "  return 0\n",
        "\n",
        "\n",
        "def recursive_digit_count(pos_num):\n",
        "    # write your code here and replace the return statement below\n",
        "  return 0\n",
        "\n",
        "\n",
        "# you can put code here to test out your functions"
      ],
      "metadata": {
        "id": "HpyPvU9MNGL4"
      },
      "execution_count": null,
      "outputs": []
    },
    {
      "cell_type": "markdown",
      "source": [
        "### Task 2 - Counting comparisons in linear search\n",
        "1. Implement a simple linear search that takes a list and a value, and returns the index of the value if it is present in the list.  \n",
        "2. Now, add a counter to your function that counts how many items in the list are compared to your target item.\n",
        "3. Generate a 100-item list containing the number 0 to 99.  Then generate 100 shuffles of this list (you may with to use the random.shuffle function within the random library - look up what it does and try it out.), and use your code from (2) to count how many comparisons are used to find the item 42 in each of your shuffled lists.  What is the mean of these numbers? Is it as you expect?"
      ],
      "metadata": {
        "id": "BuXKkAasNnJd"
      }
    },
    {
      "cell_type": "code",
      "source": [
        "# write your simple search function with comparison counting below:\n",
        "\n",
        "\n",
        "\n",
        "# and now add code for (3) to check for the item 42 in shuffled lists and see how many comparisons are made\n",
        "\n",
        "\n"
      ],
      "metadata": {
        "id": "aYjdRyUpNpyO"
      },
      "execution_count": null,
      "outputs": []
    },
    {
      "cell_type": "markdown",
      "source": [
        "### Task 3 - Finding bugs in binary search\n",
        "In the file `lab_code_search.py` (or below if you're looking at this in a notebook) there are three copies of iterative binary search, each of which has a bug.  Trace each of these pieces of code, identify the bug, and fix it.  You will learn more from this exercise if you don’t look at a correct copy of binary search while doing it, and don’t compare across buggy versions until you are done.  I suggest you work on them one at a time.  You should be able to give an input to each piece of buggy code that shows the problem when you trace the operation on that input."
      ],
      "metadata": {
        "id": "SQ7CtBDVOJZo"
      }
    },
    {
      "cell_type": "code",
      "source": [
        "#  below are the buggy iterative binary searches - find the problem with each and fix it\n",
        "\n",
        "def iterative_binary_search_buggy1(my_list, value): \n",
        "    lo, hi = 0, len(my_list)-1 \n",
        "    while lo < hi: \n",
        "        mid = (lo + hi) // 2 \n",
        "        if my_list[mid] < value: \n",
        "            lo = mid + 1 \n",
        "        elif value < my_list[mid]: \n",
        "            hi = mid - 1 \n",
        "        else: \n",
        "            return mid \n",
        "    return -1 \n",
        "\n",
        "\n",
        "def iterative_binary_search_buggy2(my_list, value): \n",
        "    lo, hi = 0, len(my_list)-1 \n",
        "    while lo <= hi: \n",
        "        mid = (lo + hi) // 2 \n",
        "        if my_list[mid] < value: \n",
        "            lo = mid + 1 \n",
        "        elif value <= my_list[mid]: \n",
        "            hi = mid - 1 \n",
        "        else: \n",
        "            return mid \n",
        "    return -1 \n",
        "\n",
        "\n",
        "def iterative_binary_search_buggy3(my_list, value): \n",
        "    lo, hi = 0, len(my_list)-1 \n",
        "    while lo <= hi: \n",
        "        mid = (lo + hi) // 2 \n",
        "        if my_list[mid] <= value: \n",
        "            lo = mid + 1 \n",
        "        elif value < my_list[mid]: \n",
        "            hi = mid - 1 \n",
        "        else: \n",
        "            return mid \n",
        "    return -1 \n"
      ],
      "metadata": {
        "id": "R-r-MKfBOI0j"
      },
      "execution_count": null,
      "outputs": []
    },
    {
      "cell_type": "markdown",
      "source": [
        "### Task 4 - Implementing a recursive binary search\n",
        "Using your debugged version of an iterative binary search, try to produce a recursive version of binary search. You will learn more from this exercise if you don’t look at a copy of recursive binary search while doing it.  If you feel stuck, remember how we approached recursive functions in cycle 2 - what are the base cases?  What are the recursive cases? "
      ],
      "metadata": {
        "id": "vR2hysYhOfV2"
      }
    },
    {
      "cell_type": "code",
      "source": [
        "# Write your recursive binary search here"
      ],
      "metadata": {
        "id": "CkEuH5KvOiGN"
      },
      "execution_count": null,
      "outputs": []
    },
    {
      "cell_type": "markdown",
      "source": [
        "\n",
        "### Task 5 - Stretch task\n",
        "Say we are given a list that is composed of an increasing sequence of numbers followed by a decreasing sequence.  (e.g. [1, 2, 3, 6, 29, 13, 12, 11, 6]) Can you write an adaptation of binary search that finds the index of the last number in the increasing sequence (here it would be the index of 29)?  "
      ],
      "metadata": {
        "id": "MsRl7JzWOqUT"
      }
    },
    {
      "cell_type": "code",
      "source": [
        "# Write your turnaround-point finder here.  \n",
        "# if you can't figure out how to do it using a binary search approach, \n",
        "# you could first do it using something more like a simple search\n",
        "\n"
      ],
      "metadata": {
        "id": "Hun3GzZGOufU"
      },
      "execution_count": 2,
      "outputs": []
    },
    {
      "cell_type": "code",
      "source": [],
      "metadata": {
        "id": "Y62ydM5VPAxT"
      },
      "execution_count": 2,
      "outputs": []
    }
  ]
}