{
 "cells": [
  {
   "cell_type": "markdown",
   "metadata": {},
   "source": [
    "**Searching**\n",
    "\n",
    "Given our experience in thinking about computational complexity and correctness, I think we're ready to start thinking about a couple classic *algorithms* and problems.\n",
    "\n",
    "This week we will start with *searching*, and then move on to *sorting*\n",
    "\n",
    "We'll talk about:\n",
    "1. What we mean by searching\n",
    "2. How quickly can we search a list when we don't know anything about the list?\n",
    "3. When can we do better?\n",
    "4. Defining a faster algorithm - binary search\n",
    "\n",
    "What do we mean by searching?\n",
    "\n",
    "Searching in general in computing means lots of different things - we'll be talking about the question: given a data structure and an item - is the item in the data structure? We will mostly talk about looking for items in lists, occasionally in dictionaries.  \n",
    "\n",
    "Let's start with this version of the question: Given a list and an item, return the index of the item if it is in the list, otherwise return -1.\n",
    "\n",
    "Warm-up: write a function to do this. "
   ]
  },
  {
   "cell_type": "code",
   "execution_count": 4,
   "metadata": {},
   "outputs": [
    {
     "name": "stdout",
     "output_type": "stream",
     "text": [
      "0\n"
     ]
    }
   ],
   "source": [
    "def simpleSearch(myList, item):\n",
    "    for i in range(len(myList)):\n",
    "        if myList[i] == item:\n",
    "            return i\n",
    "    return -1\n",
    "\n",
    "my_list = [1, 2, 3, 42, 1, 0, -6, 10]\n",
    "print(simpleSearch(my_list, 1))\n",
    "\n",
    "# Complexity of this is \n",
    "# O(n) - because a single for loop traverses the list once, examining each item\n",
    "\n"
   ]
  },
  {
   "cell_type": "markdown",
   "metadata": {},
   "source": [
    "Exercise: What is the big-O time complexity of this algorithm?\n",
    "    \n",
    "\n",
    "Can we do better?  If not, why not?\n",
    "\n"
   ]
  },
  {
   "cell_type": "markdown",
   "metadata": {},
   "source": [
    "We can do better when we know the list is in sorted order.  \n",
    "\n",
    "\n",
    "Example: the guessing game - trace an example.\n",
    "    \n",
    "Example: searching in an alphabetically ordered list - looking for *cat* in the list:"
   ]
  },
  {
   "cell_type": "raw",
   "metadata": {},
   "source": [
    "wordsList = ['android', 'badger', 'cat', 'door', 'ending', 'firefighter', 'garage', 'handle', 'iguana', 'jumper', 'kestrel', 'lemon']"
   ]
  },
  {
   "cell_type": "markdown",
   "metadata": {},
   "source": [
    "We have essentially been performing **binary search**.  The idea is simple, but the implementation can be tricky! We will look at two implementations: one iterative, one recursive. "
   ]
  },
  {
   "cell_type": "code",
   "execution_count": 6,
   "metadata": {},
   "outputs": [],
   "source": [
    "def iterative_binary_search(my_list, value):\n",
    "    lo =  0\n",
    "    hi = len(my_list)-1\n",
    "    while lo <= hi:\n",
    "        mid = (lo + hi) // 2\n",
    "        if my_list[mid] < value:\n",
    "            lo = mid + 1\n",
    "        elif value < my_list[mid]:\n",
    "            hi = mid - 1\n",
    "        else:\n",
    "            return mid\n",
    "    return -1"
   ]
  },
  {
   "cell_type": "markdown",
   "metadata": {},
   "source": [
    "Let's trace the operation of this code when called with: "
   ]
  },
  {
   "cell_type": "code",
   "execution_count": 9,
   "metadata": {},
   "outputs": [
    {
     "data": {
      "text/plain": [
       "2"
      ]
     },
     "execution_count": 9,
     "metadata": {},
     "output_type": "execute_result"
    }
   ],
   "source": [
    "iterative_binary_search([-3, 0, 1, 19, 20, 22, 32], 2)"
   ]
  },
  {
   "cell_type": "markdown",
   "metadata": {},
   "source": [
    "Binary search can also be implemented recursively.  I would like you to be familiar with both the iterative and the recursive versions.\n",
    "\n",
    "\n",
    "Let's try to translate from our iterative version to a recursive version.  Look at the iterative version.  Where might recursive calls go?  Think back to the tracing - where might we have done recursive calls?"
   ]
  },
  {
   "cell_type": "code",
   "execution_count": 6,
   "metadata": {},
   "outputs": [
    {
     "data": {
      "text/plain": [
       "-1"
      ]
     },
     "execution_count": 6,
     "metadata": {},
     "output_type": "execute_result"
    }
   ],
   "source": [
    " def binary_search(my_list, lo, hi, value):\n",
    "#     base case\n",
    "    if len(my_list) < 1:\n",
    "        return -1\n",
    "    if lo > hi:\n",
    "        return -1\n",
    "    \n",
    "    mid = lo + hi //2\n",
    "    mid_value = my_list[mid]\n",
    "    \n",
    "#  another base case\n",
    "    if mid_value == value:\n",
    "        return mid\n",
    "#   proper recursive cases\n",
    "    elif mid_value < value:\n",
    "        new_lo = mid+1\n",
    "        return binary_search(my_list, new_lo, hi, value)\n",
    "    else: \n",
    "        new_hi = mid -1\n",
    "        return binary_search(my_list, lo, new_hi, value)"
   ]
  },
  {
   "cell_type": "markdown",
   "metadata": {},
   "source": [
    "Be sure you can trace this code very carefully!\n",
    "\n",
    "Let's trace it with a call of:  "
   ]
  },
  {
   "cell_type": "code",
   "execution_count": 3,
   "metadata": {},
   "outputs": [
    {
     "name": "stdout",
     "output_type": "stream",
     "text": [
      "3\n"
     ]
    }
   ],
   "source": [
    "my_list = [-3, 0, 1, 19, 20, 22, 32]\n",
    "\n",
    "def binary_search(my_list, lo, hi, value):\n",
    "    if len(my_list) < 1:\n",
    "        return -1\n",
    "    if lo > hi:\n",
    "        return -1\n",
    "    \n",
    "    \n",
    "    mid = lo + hi // 2\n",
    "    mid_value = my_list[mid]\n",
    "    \n",
    "    if mid_value == value:\n",
    "        return mid\n",
    "    elif mid_value < value:\n",
    "        return binary_search(my_list, mid + 1, hi, value)\n",
    "    else:\n",
    "        return binary_search(my_list, lo, mid - 1, value)\n",
    "    \n",
    "    \n",
    "my_list = [-3, 0, 1, 19, 20, 22, 32]\n",
    "print(binary_search(my_list, 0, len(my_list) -1, 20))\n",
    "    "
   ]
  },
  {
   "cell_type": "markdown",
   "metadata": {},
   "source": [
    "Many things can go wrong in implementing binary search!  You will practice finding bugs in your lab. "
   ]
  },
  {
   "cell_type": "markdown",
   "metadata": {},
   "source": [
    "**We still need to talk about the time complexity of binary search**\n",
    "\n",
    "Think back to our tracing - how many times did we adjust our bounds? (we will examine an example in lecture).  \n",
    "\n",
    "What is the the worst-case for this search?  \n",
    "- it is when the item is not in the list.\n",
    "\n",
    "What will happen when we add one extra item?  What about when we double the size of the list?\n",
    "\n",
    "How many times can we split our list in half before we're left with an empty list (or equal hi/lo bounds) to check?\n",
    "\n",
    "\n",
    "**Example:** say we have a list of length 8.  How many loops?\n",
    "1. Split 8 to 4\n",
    "2. Split 4 to 2\n",
    "3. Split 2 to 1\n",
    "Item not found\n",
    "**3 loops**\n",
    "\n",
    "**Example:** say we have a list of length 64.  How many loops?\n",
    "1. Split 64 to 32\n",
    "2. Split 32 to 16\n",
    "3. Split 16 to 8\n",
    "4. Split 8 to 4\n",
    "5. Split 4 to 2\n",
    "6. Split 2 to 1\n",
    "Item not found\n",
    "**6 loops**\n",
    "\n",
    "Note the pattern: 2^6 = 64, 2^3 = 8 - this gets a little more complicated for non-powers-of-two, but with work and details it can be worked out.\n",
    "\n",
    "The time complexity of binary search is **O(log n)**\n"
   ]
  },
  {
   "cell_type": "markdown",
   "metadata": {},
   "source": [
    "Additional exercises you could try out:\n",
    "    1. Implementing a few modified simple searches \n",
    "    \n",
    "      * write a search that determines if an item is present *at least twice*\n",
    "      * write a search that determines if an item is present *after some particular index*"
   ]
  },
  {
   "cell_type": "code",
   "execution_count": 0,
   "metadata": {},
   "outputs": [],
   "source": []
  }
 ],
 "metadata": {
  "kernelspec": {
   "display_name": "Python 3",
   "language": "python",
   "name": "python3"
  },
  "language_info": {
   "codemirror_mode": {
    "name": "ipython",
    "version": 3
   },
   "file_extension": ".py",
   "mimetype": "text/x-python",
   "name": "python",
   "nbconvert_exporter": "python",
   "pygments_lexer": "ipython3",
   "version": "3.7.6"
  }
 },
 "nbformat": 4,
 "nbformat_minor": 1
}
