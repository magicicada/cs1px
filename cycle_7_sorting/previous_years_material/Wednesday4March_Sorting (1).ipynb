{
 "cells": [
  {
   "cell_type": "markdown",
   "metadata": {
    "collapsed": false
   },
   "source": [
    "**Today's plan:**\n",
    "Continue talking about sorting\n",
    "- we will write an iterative selection sort\n",
    "- we will have another look at computational complexity of selection sort\n",
    "- we will have a look at gnome sort - a simple, but deceptive sort!\n",
    "\n",
    "Reminder! Lab exam in week of March 23rd. "
   ]
  },
  {
   "cell_type": "markdown",
   "metadata": {
    "collapsed": false
   },
   "source": [
    "First, let's write out our iterative selection sort:\n",
    "\n",
    "Steps:\n",
    "- look through the list for the smallest value\n",
    "- swap to the current front\n",
    "- then move over one in the list, and repeat\n",
    "\n",
    "\n",
    "Let's use our swap and a findMinimumAfterIncluding function\n"
   ]
  },
  {
   "cell_type": "code",
   "execution_count": 2,
   "metadata": {
    "collapsed": false
   },
   "outputs": [
    {
     "name": "stdout",
     "output_type": "stream",
     "text": [
      "myList is currently [3, 1, 2, 6, 72, 4]\n",
      "I am on iteration 0\n",
      "myList is currently [1, 3, 2, 6, 72, 4]\n",
      "I am on iteration 1\n",
      "myList is currently [1, 2, 3, 6, 72, 4]\n",
      "I am on iteration 2\n",
      "myList is currently [1, 2, 3, 6, 72, 4]\n",
      "I am on iteration 3\n",
      "myList is currently [1, 2, 3, 4, 72, 6]\n",
      "I am on iteration 4\n",
      "myList is currently [1, 2, 3, 4, 6, 72]\n",
      "I am on iteration 5\n",
      "[1, 2, 3, 4, 6, 72]\n"
     ]
    }
   ],
   "source": [
    "def swap(myList, i, j):\n",
    "    tmp = myList[i]\n",
    "    myList[i] = myList[j]\n",
    "    myList[j] = tmp\n",
    "      \n",
    "    \n",
    "def findMinimumAfterIncluding(myList, afterInd):\n",
    "    minSoFar = afterInd\n",
    "    for i in range(afterInd, len(myList)):\n",
    "        if myList[i] < myList[minSoFar]:\n",
    "            minSoFar = i\n",
    "    return minSoFar\n",
    "\n",
    "def selectionSort(myList):\n",
    "    for i in range(len(myList)):\n",
    "        print(\"myList is currently \" + str(myList))\n",
    "        print(\"I am on iteration \" + str(i))\n",
    "        smallest = findMinimumAfterIncluding(myList, i)\n",
    "        swap(myList, smallest, i)\n",
    "        \n",
    "myList = [3, 1, 2, 6, 72, 4]\n",
    "selectionSort(myList)\n",
    "print(myList)\n"
   ]
  },
  {
   "cell_type": "markdown",
   "metadata": {
    "collapsed": false
   },
   "source": [
    "Now let's examing the big-O complexity of this function.\n",
    "\n",
    "First: intuition based on a pattern: what do we see?\n",
    "\n",
    "- We see a single for loop, but need to be careful, 'cause there's one hiding in findMinimumAfterIncluding!!\n",
    "\n",
    "So overall, O(n^2)\n",
    "\n",
    "Next, trace operations with three inputs:"
   ]
  },
  {
   "cell_type": "code",
   "execution_count": 0,
   "metadata": {
    "collapsed": false
   },
   "outputs": [
   ],
   "source": [
    "selectionSort([3, 1, 2])\n",
    "selectionSort([3, 1, 9, 2])\n",
    "selectionSort([3, 1, 2, 1, 90])"
   ]
  },
  {
   "cell_type": "markdown",
   "metadata": {
    "collapsed": false
   },
   "source": [
    "Conclusion?"
   ]
  },
  {
   "cell_type": "markdown",
   "metadata": {
    "collapsed": false
   },
   "source": [
    "One more sorting algorithm:  Gnome Sort\n",
    "    \n",
    "Gnome Sort is based on the technique used by the standard Dutch Garden Gnome (Du.: tuinkabouter).\n",
    "Here is how a garden gnome sorts a line of flower pots.\n",
    "Basically, he looks at the flower pot next to him and the previous one; if they are in the right order he steps one pot forward, otherwise, he swaps them and steps one pot backward.\n",
    "\n",
    "Boundary conditions: if there is no previous pot, he steps forwards; if there is no pot next to him, he is done.\n",
    "\n",
    "— \"Gnome Sort - The Simplest Sort Algorithm\". Dickgrune.com\n",
    "    "
   ]
  },
  {
   "cell_type": "code",
   "execution_count": 4,
   "metadata": {
    "collapsed": false
   },
   "outputs": [
    {
     "name": "stdout",
     "output_type": "stream",
     "text": [
      "[1, 1, 1, 2, 6, 72]\n"
     ]
    }
   ],
   "source": [
    "def gnomeSort(myList):\n",
    "    position = 1\n",
    "    while position < len(myList):\n",
    "        if myList[position -1] > myList[position]:\n",
    "#             Now I'm in a swap-needed situation\n",
    "             swap(myList, position, position-1)\n",
    "             if position >1:\n",
    "                   position = position -1\n",
    "        else:\n",
    "            position = position +1\n",
    "\n",
    "            \n",
    "myList = [1,1, 2, 6, 72, 1]\n",
    "gnomeSort(myList)\n",
    "print(myList)"
   ]
  },
  {
   "cell_type": "code",
   "execution_count": 0,
   "metadata": {
    "collapsed": false
   },
   "outputs": [
   ],
   "source": [
   ]
  },
  {
   "cell_type": "code",
   "execution_count": 0,
   "metadata": {
    "collapsed": false
   },
   "outputs": [
   ],
   "source": [
   ]
  }
 ],
 "metadata": {
  "kernelspec": {
   "display_name": "Python 3 (system-wide)",
   "language": "python",
   "metadata": {
    "cocalc": {
     "description": "Python 3 programming language",
     "priority": 100,
     "url": "https://www.python.org/"
    }
   },
   "name": "python3"
  },
  "language_info": {
   "codemirror_mode": {
    "name": "ipython",
    "version": 3
   },
   "file_extension": ".py",
   "mimetype": "text/x-python",
   "name": "python",
   "nbconvert_exporter": "python",
   "pygments_lexer": "ipython3",
   "version": "3.6.9"
  }
 },
 "nbformat": 4,
 "nbformat_minor": 0
}