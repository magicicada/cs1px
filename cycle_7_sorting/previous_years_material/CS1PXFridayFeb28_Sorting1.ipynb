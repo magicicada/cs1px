{
 "cells": [
  {
   "cell_type": "markdown",
   "metadata": {},
   "source": [
    "Plan for today:\n",
    "    - Discuss a the idea of sorting\n",
    "    - outline several sorting algorithms\n",
    "    - BubbleSort\n",
    "    - Recursive Selection Sort\n",
    "    - consider big-O complexity of these\n",
    "    \n",
    "We will do some physical demonstrations of sorting algorithms, and then look at or produce code.\n",
    "\n",
    "For extra demonstrations (and information on MergeSort, which is a more advanced sorting algorithm), Computerphile has a nice YouTube video:  https://www.youtube.com/watch?v=kgBjXUE_Nwc\n",
    "\n",
    "Not necessarily useful to you, but I found it fun: a visual and audio representation of lots of different sorting algorithms.\n",
    "https://www.youtube.com/watch?v=kPRA0W1kECg&t=14s\n",
    "(I find HeapSort to be very ominous)"
   ]
  },
  {
   "cell_type": "markdown",
   "metadata": {},
   "source": [
    "Selection sort is my favourite simple-ish sorting algorithm, because I find it the easiest to remember, and the easiest to understand recursively. \n",
    "\n",
    "Selection sort works like this:\n",
    "- traverse over the list. \n",
    "     - For each position in the list, find the smallest element that comes after that position \n",
    "     - swap that smallest with the current element\n",
    "You're done!\n",
    "\n",
    "Why does this work?  Let's do a demonstration with cards.  \n",
    "\n",
    "\n",
    "OK, now let's try and write this out recursively:\n",
    "\n",
    "In pseudocode:\n",
    "Base case?\n",
    "\n",
    "Recursive case:\n",
    "- find the smallest thing in the list, swap it to the front.  \n",
    "- then call the function again just on the rest of the list\n",
    "\n",
    "Now let's look at some code: "
   ]
  },
  {
   "cell_type": "code",
   "execution_count": 21,
   "metadata": {},
   "outputs": [
    {
     "name": "stdout",
     "output_type": "stream",
     "text": [
      "[1, 2, 3, 4, 5, 6, 7, 8, 9, 10]\n"
     ]
    }
   ],
   "source": [
    "def selection(myList, i, j, flag):\n",
    "    size = len(myList)\n",
    "    if (i < size - 1):\n",
    "        if (flag):\n",
    "            j = i + 1;\n",
    "        if (j < size):\n",
    "            if (myList[i] > myList[j]):\n",
    "                myList[i], myList[j] = myList[j], myList[i]\n",
    "            selection(myList, i, j + 1, 0)\n",
    "        selection(myList, i + 1, 0, 1)\n",
    "    \n",
    "    \n",
    "\n",
    "# myList = [6, 2, 3, 7, 9, 1, 4, 10, 8, 5]\n",
    "# selection(myList, 0, 0, 1)\n",
    "# print(myList)\n",
    "\n",
    "def swap(myList, i, j):\n",
    "    tmp = myList[j]\n",
    "    myList[j] = myList[i]\n",
    "    myList[i] = tmp\n",
    "\n",
    "def findMinimumInd(myList):\n",
    "    if len(myList) <=0:\n",
    "        return None\n",
    "    smallestInd = 0\n",
    "    for i in range(len(myList)):\n",
    "        if myList[i] < myList[smallestInd]:\n",
    "            smallestInd = i\n",
    "    return smallestInd\n",
    "\n",
    "def selectionRecursive(myList):\n",
    "#     print (\"\\n\\n\\n sorting list: \")\n",
    "#     print (myList)\n",
    "    size = len(myList)\n",
    "    if size <= 1:\n",
    "        return myList\n",
    "    else:\n",
    "        smallestInd = findMinimumInd(myList)\n",
    "        swap(myList, 0, smallestInd)\n",
    "        return [myList[0]] + selectionRecursive(myList[1:])\n",
    "\n",
    "\n",
    "myList = [6, 2, 3, 7, 9, 1, 4, 10, 8, 5]\n",
    "myList = selectionRecursive(myList)\n",
    "print(myList)"
   ]
  },
  {
   "cell_type": "markdown",
   "metadata": {},
   "source": [
    "In your lab this week I'll ask you to implement an iterative version of this.\n",
    "\n",
    "Let's move on now to talking about another sorting algorithm - BubbleSort.\n",
    "\n",
    "BubbleSort is so-named because the values 'bubble' up through the list.  BubbleSort always compares pairs of adjacent values.  \n",
    "\n",
    "We'll do an example with cards.\n",
    "\n",
    "Now let's look at some code:"
   ]
  },
  {
   "cell_type": "code",
   "execution_count": 2,
   "metadata": {},
   "outputs": [
    {
     "name": "stdout",
     "output_type": "stream",
     "text": [
      "[11, 12, 22, 25, 34, 64, 90]\n"
     ]
    }
   ],
   "source": [
    "def bubbleSort(myList):\n",
    "    n = len(myList)\n",
    " \n",
    "    # Iterate over each element\n",
    "    for i in range(n):\n",
    " \n",
    "        # Last i elements are already in order\n",
    "        for j in range(0, n-i-1):\n",
    "            # Swap if the element found is greater\n",
    "            # than the next element\n",
    "            if myList[j] > myList[j+1] :\n",
    "                tmp = myList[j]\n",
    "                myList[j] = myList[j+1]\n",
    "                myList[j+1] = tmp\n",
    "\n",
    "forSorting = [64, 34, 25, 12, 22, 11, 90]\n",
    " \n",
    "bubbleSort(forSorting)\n",
    "print(forSorting)"
   ]
  },
  {
   "cell_type": "markdown",
   "metadata": {},
   "source": [
    "Now let's talk about big-O complexity.  Any ideas?  \n",
    "\n",
    "Think back to our strategies: can you recognise a pattern in the BubbleSort code?  How much longer will the code take if we add one more item to the list?  \n",
    "\n",
    "Exercise: try to trace a couple small examples of the BubbleSort and SelectionSort, and convince yourself of their complexity!"
   ]
  },
  {
   "cell_type": "code",
   "execution_count": null,
   "metadata": {},
   "outputs": [],
   "source": []
  }
 ],
 "metadata": {
  "kernelspec": {
   "display_name": "Python 3",
   "language": "python",
   "name": "python3"
  },
  "language_info": {
   "codemirror_mode": {
    "name": "ipython",
    "version": 3
   },
   "file_extension": ".py",
   "mimetype": "text/x-python",
   "name": "python",
   "nbconvert_exporter": "python",
   "pygments_lexer": "ipython3",
   "version": "3.7.4"
  }
 },
 "nbformat": 4,
 "nbformat_minor": 2
}
