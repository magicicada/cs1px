{
 "cells": [
  {
   "cell_type": "markdown",
   "id": "ffad9159",
   "metadata": {},
   "source": [
    "Q&A Notebook - Cycle 2 - Fancy Functions - Jan 26"
   ]
  },
  {
   "cell_type": "markdown",
   "id": "b5817389",
   "metadata": {},
   "source": [
    "Admin Questions:\n",
    "- does anybody know where the online labs are held?\n",
    "    -  They're in Gather - there will be a link in your lab's Teams channel or chat\n",
    "- I missed one this week and couldn't swap - but still need help, what do I do?\n",
    "    - first port of call is your tutor: either in the next lab or online between labs\n",
    "- where could we get more example questions for practice with recursive functions?\n",
    "     - I'll try to find and link some \n",
    "- I wonder can we also have a 2-hour online lab, that's how we did last year in 1ct.\n",
    "    - At least for now, no. \n",
    "- Will the end of semester exam for this class be online or in person, or have these details not been published yet?\n",
    "    - CS1PX exam is online"
   ]
  },
  {
   "cell_type": "markdown",
   "id": "a0a9fa1f",
   "metadata": {},
   "source": [
    "Q: Could you go over the challenge question for recursively modifying dictionaries?\n",
    "    \n",
    "    Yes!  Let's do a version for lists as well.   Write a function that goes through a list, and if an entry is a integer, then apply some specified function to it, if it's a list then go into that list and recursively apply this function"
   ]
  },
  {
   "cell_type": "code",
   "execution_count": 26,
   "id": "b97763a4",
   "metadata": {},
   "outputs": [
    {
     "name": "stdout",
     "output_type": "stream",
     "text": [
      "{'apple': 216, 'banana': {'hello': 125, 'world': 64}}\n"
     ]
    }
   ],
   "source": [
    "def cube(number):\n",
    "    return number**3\n",
    "\n",
    "def add_one(number):\n",
    "    return number +1\n",
    "\n",
    "my_list = [2, 3, 10, [2, 2, [0]], 3]\n",
    "# [8, 27, 1000, [8, 8, [0]], 27]\n",
    "\n",
    "def apply_func_recurse_list(my_list, func):\n",
    "    for i in range(len(my_list)):\n",
    "        item = my_list[i] \n",
    "        # base case\n",
    "#         if type(item) == int:\n",
    "        if str(item).isdigit():\n",
    "        #or could use something like .isdigit function\n",
    "        # or could use something like if type(item)!=type([]):\n",
    "            my_list[i] = func(item)\n",
    "        \n",
    "        # recursive case\n",
    "        else: #then we assume list, and recurse\n",
    "            apply_func_recurse_list(item, func)\n",
    "\n",
    "func = add_one\n",
    "apply_func_recurse_list(my_list, func)  \n",
    "# print(my_list)\n",
    "\n",
    "# input_string = '49549.0'\n",
    "# input_int = 49549\n",
    "# print(input_string.isdigit())\n",
    "# print(input_int.isdigit())\n",
    "\n",
    "# Dictionary version - lab exercise\n",
    "def apply_recurse_dict(my_dict, func):\n",
    "    for key in my_dict:\n",
    "       #  base case\n",
    "       if type(my_dict[key]) is int:\n",
    "            my_dict[key] = func(my_dict[key])\n",
    "       #  recursive case\n",
    "       else: # assume the value is a dictionary\n",
    "            apply_recurse_dict(my_dict[key], func)\n",
    "\n",
    "sample_dict = {'apple': 6, 'banana': {'hello': 5, 'world': 4}}\n",
    "apply_recurse_dict(sample_dict, cube)\n",
    "print(sample_dict)"
   ]
  },
  {
   "cell_type": "markdown",
   "id": "9b929032",
   "metadata": {},
   "source": [
    "Is it wrong to think of the recursive function in Task 1 as a loop? I'm having some difficulty understanding what is happening 'in the background'\n",
    "\n",
    "`recursive_exponent(base, exp)`\n",
    "\n",
    "We traced a bit in the video - last bit in the Cycle 2 Q&A video"
   ]
  },
  {
   "cell_type": "code",
   "execution_count": null,
   "id": "2513c5a0",
   "metadata": {},
   "outputs": [],
   "source": []
  },
  {
   "cell_type": "code",
   "execution_count": null,
   "id": "e5b7a90f",
   "metadata": {},
   "outputs": [],
   "source": []
  }
 ],
 "metadata": {
  "kernelspec": {
   "display_name": "Python 3",
   "language": "python",
   "name": "python3"
  },
  "language_info": {
   "codemirror_mode": {
    "name": "ipython",
    "version": 3
   },
   "file_extension": ".py",
   "mimetype": "text/x-python",
   "name": "python",
   "nbconvert_exporter": "python",
   "pygments_lexer": "ipython3",
   "version": "3.7.6"
  }
 },
 "nbformat": 4,
 "nbformat_minor": 5
}
